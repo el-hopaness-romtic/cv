{
    "cells": [
        {
            "cell_type": "code",
            "execution_count": null,
            "metadata": {
                "deletable": false,
                "editable": false,
                "id": "uJt3wz6U4elS",
                "nbgrader": {
                    "cell_type": "code",
                    "checksum": "82ecff7a3476ffeb1b53c115df234878",
                    "grade": false,
                    "grade_id": "cell-ed0e89e39ef5b952",
                    "locked": true,
                    "schema_version": 3,
                    "solution": false,
                    "task": false
                }
            },
            "outputs": [],
            "source": [
                "import numpy as np\n",
                "from scipy.linalg import block_diag"
            ]
        },
        {
            "cell_type": "markdown",
            "metadata": {
                "id": "PEZgFc674elS"
            },
            "source": [
                "Рассмотрим систему линейных уравнений, матрица правой части которой является \"ленточной\" и имеет следующую структуру: ненулевые элементы расположены на трех центральных диагонялях и на двух \"крыльях\". Матрицы такой структуры возникают, например, при решении задачи на нахождение электростатического потенциала $\\phi(x, y)$, cоздаваемого двумерным распределением заряда $\\rho(x, y)$ при дискретизации на сетке уравнения Пуассона\n",
                "\n",
                "$$\n",
                "\\Delta \\phi = -4\\pi \\rho\\;.\n",
                "$$\n",
                "\n",
                "(детали см. напр. А.А. Самарский, А.В. Гулин, Численные методы, ч. 3 гл. 1, параграф 1).\n",
                "\n",
                "Размер матрицы растет с уменьшением шага сетки $h$ как $O(1/h^2)$. Таким образом, приходится иметь дело с разреженными матрицами огромного размера.\n",
                "\n",
                "Матрицу `m` создадим следующим образом:"
            ]
        },
        {
            "cell_type": "code",
            "execution_count": null,
            "metadata": {
                "deletable": false,
                "editable": false,
                "id": "LCNt0v-r4elT",
                "nbgrader": {
                    "cell_type": "code",
                    "checksum": "49cc83ba22b9baf06a0fd368ebbe0594",
                    "grade": false,
                    "grade_id": "cell-68787095785b88fa",
                    "locked": true,
                    "schema_version": 3,
                    "solution": false,
                    "task": false
                }
            },
            "outputs": [],
            "source": [
                "def lhs_matrix(n):\n",
                "    # Диагональный блок\n",
                "    a = np.zeros((n-1, n-1))\n",
                "\n",
                "    idx = np.arange(n-1)\n",
                "\n",
                "    a[idx, idx] = -4\n",
                "    a[idx[:-1], idx[:-1]+1] = 1\n",
                "    a[idx[1:], idx[1:]-1] = 1\n",
                "\n",
                "    # собираем блочно-диагональную матрицу `m`\n",
                "    m = block_diag(*(a,)*n)\n",
                "\n",
                "    # заполняем \"крылья\"\n",
                "    idx = np.arange(m.shape[0])\n",
                "\n",
                "    m[idx[:-n+1], idx[:-n+1] + n-1] = 1\n",
                "    m[idx[n-1:], idx[n-1:] - n+1] = 1\n",
                "    return m"
            ]
        },
        {
            "cell_type": "code",
            "execution_count": null,
            "metadata": {
                "colab": {
                    "base_uri": "https://localhost:8080/"
                },
                "deletable": false,
                "editable": false,
                "id": "PU3q0Ent4elT",
                "nbgrader": {
                    "cell_type": "code",
                    "checksum": "02c4a2bb847ac93894a90f04a8bf25f2",
                    "grade": false,
                    "grade_id": "cell-4c5b195e789944ab",
                    "locked": true,
                    "schema_version": 3,
                    "solution": false,
                    "task": false
                },
                "outputId": "2b1f6d6a-39b0-4587-d4cd-9013012e64e1"
            },
            "outputs": [
                {
                    "name": "stdout",
                    "output_type": "stream",
                    "text": [
                        "[[-4.  1.  0.  0.  1.  0.  0.  0.  0.  0.  0.  0.  0.  0.  0.  0.  0.  0.  0.  0.]\n",
                        " [ 1. -4.  1.  0.  0.  1.  0.  0.  0.  0.  0.  0.  0.  0.  0.  0.  0.  0.  0.  0.]\n",
                        " [ 0.  1. -4.  1.  0.  0.  1.  0.  0.  0.  0.  0.  0.  0.  0.  0.  0.  0.  0.  0.]\n",
                        " [ 0.  0.  1. -4.  0.  0.  0.  1.  0.  0.  0.  0.  0.  0.  0.  0.  0.  0.  0.  0.]\n",
                        " [ 1.  0.  0.  0. -4.  1.  0.  0.  1.  0.  0.  0.  0.  0.  0.  0.  0.  0.  0.  0.]\n",
                        " [ 0.  1.  0.  0.  1. -4.  1.  0.  0.  1.  0.  0.  0.  0.  0.  0.  0.  0.  0.  0.]\n",
                        " [ 0.  0.  1.  0.  0.  1. -4.  1.  0.  0.  1.  0.  0.  0.  0.  0.  0.  0.  0.  0.]\n",
                        " [ 0.  0.  0.  1.  0.  0.  1. -4.  0.  0.  0.  1.  0.  0.  0.  0.  0.  0.  0.  0.]\n",
                        " [ 0.  0.  0.  0.  1.  0.  0.  0. -4.  1.  0.  0.  1.  0.  0.  0.  0.  0.  0.  0.]\n",
                        " [ 0.  0.  0.  0.  0.  1.  0.  0.  1. -4.  1.  0.  0.  1.  0.  0.  0.  0.  0.  0.]\n",
                        " [ 0.  0.  0.  0.  0.  0.  1.  0.  0.  1. -4.  1.  0.  0.  1.  0.  0.  0.  0.  0.]\n",
                        " [ 0.  0.  0.  0.  0.  0.  0.  1.  0.  0.  1. -4.  0.  0.  0.  1.  0.  0.  0.  0.]\n",
                        " [ 0.  0.  0.  0.  0.  0.  0.  0.  1.  0.  0.  0. -4.  1.  0.  0.  1.  0.  0.  0.]\n",
                        " [ 0.  0.  0.  0.  0.  0.  0.  0.  0.  1.  0.  0.  1. -4.  1.  0.  0.  1.  0.  0.]\n",
                        " [ 0.  0.  0.  0.  0.  0.  0.  0.  0.  0.  1.  0.  0.  1. -4.  1.  0.  0.  1.  0.]\n",
                        " [ 0.  0.  0.  0.  0.  0.  0.  0.  0.  0.  0.  1.  0.  0.  1. -4.  0.  0.  0.  1.]\n",
                        " [ 0.  0.  0.  0.  0.  0.  0.  0.  0.  0.  0.  0.  1.  0.  0.  0. -4.  1.  0.  0.]\n",
                        " [ 0.  0.  0.  0.  0.  0.  0.  0.  0.  0.  0.  0.  0.  1.  0.  0.  1. -4.  1.  0.]\n",
                        " [ 0.  0.  0.  0.  0.  0.  0.  0.  0.  0.  0.  0.  0.  0.  1.  0.  0.  1. -4.  1.]\n",
                        " [ 0.  0.  0.  0.  0.  0.  0.  0.  0.  0.  0.  0.  0.  0.  0.  1.  0.  0.  1. -4.]]\n"
                    ]
                }
            ],
            "source": [
                "m = lhs_matrix(5)\n",
                "\n",
                "with np.printoptions(linewidth=99):\n",
                "    print(m)"
            ]
        },
        {
            "cell_type": "code",
            "execution_count": null,
            "metadata": {
                "colab": {
                    "base_uri": "https://localhost:8080/",
                    "height": 292
                },
                "deletable": false,
                "editable": false,
                "id": "qp8vOmvT4elT",
                "nbgrader": {
                    "cell_type": "code",
                    "checksum": "d1c92e9be65ac427184fdae9935f7d8f",
                    "grade": false,
                    "grade_id": "cell-26d617a08fa36eb1",
                    "locked": true,
                    "schema_version": 3,
                    "solution": false,
                    "task": false
                },
                "outputId": "caebef27-c7f0-4658-9417-527a91e732d2"
            },
            "outputs": [
                {
                    "data": {
                        "text/plain": [
                            "<matplotlib.image.AxesImage at 0x7f4809e6bd50>"
                        ]
                    },
                    "execution_count": 5,
                    "metadata": {
                        "tags": []
                    },
                    "output_type": "execute_result"
                },
                {
                    "data": {
                        "image/png": "[encoded data removed]",
                        "text/plain": [
                            "<Figure size 288x288 with 1 Axes>"
                        ]
                    },
                    "metadata": {
                        "needs_background": "light",
                        "tags": []
                    },
                    "output_type": "display_data"
                }
            ],
            "source": [
                "import matplotlib.pyplot as plt\n",
                "plt.matshow(m)"
            ]
        },
        {
            "cell_type": "markdown",
            "metadata": {
                "deletable": false,
                "editable": false,
                "id": "xq_D2QJB4elU",
                "nbgrader": {
                    "cell_type": "markdown",
                    "checksum": "c43ce232bdd094d2d8787200e82cd200",
                    "grade": false,
                    "grade_id": "cell-0810641c405cedb0",
                    "locked": true,
                    "schema_version": 3,
                    "solution": false,
                    "task": false
                }
            },
            "source": [
                "Зададим вектор правой части системы $b$, символизирующий точечный заряд в центре:"
            ]
        },
        {
            "cell_type": "code",
            "execution_count": null,
            "metadata": {
                "deletable": false,
                "editable": false,
                "id": "o5vHTk834elU",
                "nbgrader": {
                    "cell_type": "code",
                    "checksum": "2ee23b7e4631364aa0def6e9025de5fe",
                    "grade": false,
                    "grade_id": "cell-bdf75cbde3d40c9b",
                    "locked": true,
                    "schema_version": 3,
                    "solution": false,
                    "task": false
                }
            },
            "outputs": [],
            "source": [
                "b = np.zeros(m.shape[0])\n",
                "b[m.shape[0]//2] = -1"
            ]
        },
        {
            "cell_type": "markdown",
            "metadata": {
                "deletable": false,
                "editable": false,
                "id": "0doU_2VH4elU",
                "nbgrader": {
                    "cell_type": "markdown",
                    "checksum": "4818e389f558693d56e6bff7518c7d0d",
                    "grade": false,
                    "grade_id": "cell-3d07f62eb12bf684",
                    "locked": true,
                    "schema_version": 3,
                    "solution": false,
                    "task": false
                }
            },
            "source": [
                "Составьте функцию, вычисляющую решение системы уравнений $m x = b$ **методом Зейделя** с заданной точностью $\\epsilon$.\n",
                "\n",
                "Не пользуйтесь функциями `np.linalg.solve`, `np.linalg.inv` и т.п. Обратите внимание на функции `np.triu` и `scipy.linalg.solve_triangular`."
            ]
        },
        {
            "cell_type": "code",
            "execution_count": 11,
            "metadata": {
                "deletable": false,
                "id": "AkHZv-oI4elU",
                "nbgrader": {
                    "cell_type": "code",
                    "checksum": "386955466ee6d63226201a37e3c5f0e8",
                    "grade": false,
                    "grade_id": "cell-d3e0976736f7d3f0",
                    "locked": false,
                    "schema_version": 3,
                    "solution": true,
                    "task": false
                }
            },
            "outputs": [],
            "source": [
                "from scipy.linalg import solve_triangular\n",
                "\n",
                "def seidel_solve(m, b, x0, eps=1e-5, maxiter=500):\n",
                "    \"\"\" Solve `m @ x = b` with Seidel iteration.\n",
                "    \n",
                "    Parameters\n",
                "    ----------\n",
                "    m : ndarray, shape (n, n)\n",
                "       Input matrix\n",
                "    b : ndarray, shape (n,)\n",
                "       Right-hand side\n",
                "    x0 : ndarray, shape (n, )\n",
                "       Initial point for the iteration\n",
                "    eps : float, optional\n",
                "       Target accuracy.\n",
                "       Stop iterations when the 2-norm of \n",
                "       `|x_k - x_{k-1}| < eps`\n",
                "    maxiter : int\n",
                "       Maximum allowed number of iterations.\n",
                "       \n",
                "    Returns\n",
                "    -------\n",
                "    x : ndarray, shape (n,)\n",
                "       The approximation to the solution of `m @ x = b`\n",
                "    nit : the number of iterations performed.\n",
                "    \"\"\"\n",
                "    invDL = np.linalg.inv(np.tril(m))\n",
                "    B = invDL @ np.triu(m, 1)\n",
                "    c = invDL @ b\n",
                "\n",
                "    nit = 0\n",
                "    x_old = x0\n",
                "    while True:\n",
                "      nit += 1\n",
                "      x = c - B @ x_old\n",
                "      if np.linalg.norm(x - x_old) < eps or nit > maxiter:\n",
                "        break\n",
                "      x_old = x\n",
                "\n",
                "    return x, nit"
            ]
        },
        {
            "cell_type": "code",
            "execution_count": 12,
            "metadata": {
                "deletable": false,
                "editable": false,
                "id": "YUJFCUak4elV",
                "nbgrader": {
                    "cell_type": "code",
                    "checksum": "397e5092e4bf5d9b1dcbb011ea82c008",
                    "grade": true,
                    "grade_id": "cell-8f5b96cfad0e18d7",
                    "locked": true,
                    "points": 15,
                    "schema_version": 3,
                    "solution": false,
                    "task": false
                }
            },
            "outputs": [],
            "source": [
                "m = lhs_matrix(n=6)\n",
                "b = np.zeros(m.shape[0])\n",
                "b[b.size//2] = 1\n",
                "\n",
                "x0 = np.ones(m.shape[0])\n",
                "x, nit = seidel_solve(m, b, x0)\n",
                "\n",
                "from numpy.testing import assert_allclose\n",
                "assert_allclose(x,\n",
                "                np.linalg.solve(m, b), atol=2e-5)\n"
            ]
        },
        {
            "cell_type": "markdown",
            "metadata": {
                "deletable": false,
                "editable": false,
                "id": "gVRlgwX34elV",
                "nbgrader": {
                    "cell_type": "markdown",
                    "checksum": "1df4e606a0bc3490f652daf5226d0c33",
                    "grade": false,
                    "grade_id": "cell-76a3476cfd72af3b",
                    "locked": true,
                    "schema_version": 3,
                    "solution": false,
                    "task": false
                }
            },
            "source": [
                "Прокомментируйте зависимость числа итераций, требуемых для достижения заданной точности, от $\\epsilon$. (без оценки)"
            ]
        },
        {
            "cell_type": "code",
            "execution_count": 16,
            "metadata": {
                "colab": {
                    "base_uri": "https://localhost:8080/"
                },
                "id": "AWdrxfuT4elV",
                "outputId": "4fa1ec77-c8f7-4933-828a-93cb7bfeef66"
            },
            "outputs": [
                {
                    "name": "stdout",
                    "output_type": "stream",
                    "text": [
                        "eps = 0.001, niter = 31\n",
                        "eps = 0.0001, niter = 40\n",
                        "eps = 1e-05, niter = 49\n",
                        "eps = 1e-06, niter = 58\n",
                        "eps = 1e-07, niter = 68\n",
                        "eps = 1e-08, niter = 77\n"
                    ]
                }
            ],
            "source": [
                "for eps in [1e-3, 1e-4, 1e-5, 1e-6, 1e-7, 1e-8]:\n",
                "  _, nit = seidel_solve(m, b, x0, eps=eps)\n",
                "  print('eps = {}, niter = {}'.format(eps, nit))"
            ]
        },
        {
            "cell_type": "code",
            "execution_count": 14,
            "metadata": {
                "colab": {
                    "base_uri": "https://localhost:8080/",
                    "height": 282
                },
                "id": "TT4qB9cC4elW",
                "outputId": "134e169e-e28d-4b2f-b9eb-bced70d92de2"
            },
            "outputs": [
                {
                    "data": {
                        "text/plain": [
                            "[<matplotlib.lines.Line2D at 0x7f47fce61f50>]"
                        ]
                    },
                    "execution_count": 14,
                    "metadata": {
                        "tags": []
                    },
                    "output_type": "execute_result"
                },
                {
                    "data": {
                        "image/png": "[encoded data removed]",
                        "text/plain": [
                            "<Figure size 432x288 with 1 Axes>"
                        ]
                    },
                    "metadata": {
                        "needs_background": "light",
                        "tags": []
                    },
                    "output_type": "display_data"
                }
            ],
            "source": [
                "# Постройте график решения как функцию индекса компоненты вектора. \n",
                "# Прокомментируйте характер зависимости (без оценки).\n",
                "plt.plot(x, 'o-')"
            ]
        },
        {
            "cell_type": "code",
            "execution_count": null,
            "metadata": {
                "id": "yeSDQd4DjY_Y"
            },
            "outputs": [],
            "source": []
        }
    ],
    "metadata": {
        "kernelspec": {
            "display_name": "Python 3",
            "language": "python",
            "name": "python3"
        },
        "language_info": {
            "codemirror_mode": {
                "name": "ipython",
                "version": 3
            },
            "file_extension": ".py",
            "mimetype": "text/x-python",
            "name": "python",
            "nbconvert_exporter": "python",
            "pygments_lexer": "ipython3",
            "version": "3.8.5"
        }
    },
    "nbformat": 4,
    "nbformat_minor": 0
}