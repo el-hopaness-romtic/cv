{
    "cells": [
        {
            "cell_type": "code",
            "execution_count": 2,
            "metadata": {
                "deletable": false,
                "editable": false,
                "executionInfo": {
                    "elapsed": 6,
                    "status": "ok",
                    "timestamp": 1633285865124,
                    "user": {
                        "displayName": "Геворг Варданян",
                        "photoUrl": "https://lh3.googleusercontent.com/a/default-user=s64",
                        "userId": "05219355763958203907"
                    },
                    "user_tz": -180
                },
                "id": "eStJ9ZxyXF-u",
                "nbgrader": {
                    "cell_type": "code",
                    "checksum": "e40b01cc4ffd9207675ad3603b9e6a01",
                    "grade": false,
                    "grade_id": "cell-1f3c409b83417207",
                    "locked": true,
                    "schema_version": 3,
                    "solution": false,
                    "task": false
                }
            },
            "outputs": [],
            "source": [
                "import numpy as np\n",
                "from matplotlib import pyplot as plt\n",
                "from scipy import sparse, linalg"
            ]
        },
        {
            "cell_type": "markdown",
            "metadata": {
                "deletable": false,
                "editable": false,
                "id": "mHHjpAkfXF-v",
                "nbgrader": {
                    "cell_type": "markdown",
                    "checksum": "4f11f0c38a6d29d51b01539b8be09f48",
                    "grade": false,
                    "grade_id": "cell-eb438faed9707cd4",
                    "locked": true,
                    "schema_version": 3,
                    "solution": false,
                    "task": false
                }
            },
            "source": [
                "# Уравнение теплопроводности"
            ]
        },
        {
            "cell_type": "markdown",
            "metadata": {
                "deletable": false,
                "editable": false,
                "id": "v4KopTihXF-v",
                "nbgrader": {
                    "cell_type": "markdown",
                    "checksum": "9615aa9e127c7c7e7f20703438b3cbdf",
                    "grade": false,
                    "grade_id": "cell-599ee3f9a235ac60",
                    "locked": true,
                    "schema_version": 3,
                    "solution": false,
                    "task": false
                }
            },
            "source": [
                "Начально-краевая задача для уравнения теплопроводности с постоянным коэффициентом в общем виде можно записать следующим образом:\n",
                "$$\n",
                "\\begin{array}{l}\n",
                "\\dfrac{\\partial u}{\\partial t} = \\alpha \\dfrac{\\partial^2 u}{\\partial x^2} + f(x, t), \\; t > 0, \\; x \\in (0, l_x), \\\\\n",
                "\\left. u \\right|_{t=0} = u_0(x), \\\\\n",
                "\\left. u \\right|_{x=0} = \\mu_1(t), \\\\\n",
                "\\left. u \\right|_{x=l_x} = \\mu_2(t),\n",
                "\\end{array}$$\n",
                "где $u(x, t)$ - функция температуры, $\\alpha = const$ - коэффициент теплопроводности, $f(x, t)$ - функция источника. "
            ]
        },
        {
            "cell_type": "markdown",
            "metadata": {
                "deletable": false,
                "editable": false,
                "id": "IMcqYEhwXF-v",
                "nbgrader": {
                    "cell_type": "markdown",
                    "checksum": "94a75ca8d7a3d8ad9d8a605fb2bd9eb9",
                    "grade": false,
                    "grade_id": "cell-5b3341c907f81351",
                    "locked": true,
                    "schema_version": 3,
                    "solution": false,
                    "task": false
                }
            },
            "source": [
                "## Явная схема"
            ]
        },
        {
            "cell_type": "markdown",
            "metadata": {
                "deletable": false,
                "editable": false,
                "id": "oyNgkf5tXF-v",
                "nbgrader": {
                    "cell_type": "markdown",
                    "checksum": "cfae8c6cdd59b127da7c4dc337659719",
                    "grade": false,
                    "grade_id": "cell-c41e33ca4836e2d3",
                    "locked": true,
                    "schema_version": 3,
                    "solution": false,
                    "task": false
                }
            },
            "source": [
                "Запишем разностное уравнение явной схемы:\n",
                "$$\\dfrac{y_i^{k+1} - y_i^{k}}{\\tau} = \\alpha \\dfrac{y_{i+1}^{k} - 2 y_i^{k} + y_{i-1}^{k}}{h^2} + f_i^k,$$\n",
                "где $\\tau$ и $h$ - шаги по времени и пространству, $y_i^k$ - значение приближённого решения в точке $(i, k)$ сетки, $y_i^k$ - значение функции источника в той же точке сетки. "
            ]
        },
        {
            "cell_type": "markdown",
            "metadata": {
                "deletable": false,
                "editable": false,
                "id": "wV8ayUvbXF-w",
                "nbgrader": {
                    "cell_type": "markdown",
                    "checksum": "55448bbf176c3205d497338340fb2e5b",
                    "grade": false,
                    "grade_id": "cell-9e9ed34da8999766",
                    "locked": true,
                    "schema_version": 3,
                    "solution": false,
                    "task": false
                }
            },
            "source": [
                "Аппроксимируем начальное и граничные условия:\n",
                "$$\n",
                "\\begin{array}{l}\n",
                "y_i^0 = u_0(x_i), \\; \\forall i = \\overline{0, N},\\\\\n",
                "y_0^k = \\mu_1(t_k), \\\\\n",
                "y_N^k = \\mu_2(t_k), \\; \\forall k > 0.\n",
                "\\end{array}$$"
            ]
        },
        {
            "cell_type": "markdown",
            "metadata": {
                "deletable": false,
                "editable": false,
                "id": "FiGz2o3cXF-w",
                "nbgrader": {
                    "cell_type": "markdown",
                    "checksum": "70a3705b7bd57afbdc915479951e654e",
                    "grade": false,
                    "grade_id": "cell-cd0738c4dd71dd54",
                    "locked": true,
                    "schema_version": 3,
                    "solution": false,
                    "task": false
                }
            },
            "source": [
                "Запрограммируйте явную разностную схему решения начально-краевой задачи для однородного уравнения теплопроводности. Обратите внимание, что \n",
                "$$\\exists \\lim\\limits_{t \\rightarrow \\infty} u(x, t) = u_\\infty (x).$$\n",
                "поэтому расчёт в какой-то момент следует остановить (считать до установления).\n",
                "\n",
                "Во время проведения расчетов помните о том, что явная схема *условно* устойчива."
            ]
        },
        {
            "cell_type": "code",
            "execution_count": 3,
            "metadata": {
                "deletable": false,
                "executionInfo": {
                    "elapsed": 5,
                    "status": "ok",
                    "timestamp": 1633285865124,
                    "user": {
                        "displayName": "Геворг Варданян",
                        "photoUrl": "https://lh3.googleusercontent.com/a/default-user=s64",
                        "userId": "05219355763958203907"
                    },
                    "user_tz": -180
                },
                "id": "vmRzk13NXF-w",
                "nbgrader": {
                    "cell_type": "code",
                    "checksum": "149f2c9502874959028304764b8ed0fe",
                    "grade": false,
                    "grade_id": "cell-a8cff91eb9385405",
                    "locked": false,
                    "schema_version": 3,
                    "solution": true,
                    "task": false
                }
            },
            "outputs": [],
            "source": [
                "def heat_expl(init, bound1, bound2, alpha, lx, h, tau, tol=1e-3):\n",
                "    \"\"\" Solve the heat equation `u_t = a*u_xx` for x in (0; lx) with an explicit scheme.\n",
                "    \n",
                "    Parameters\n",
                "    ----------\n",
                "    init : callable\n",
                "       Initial condition\n",
                "    bound1 : callable\n",
                "       Boundary condition for x = 0\n",
                "    bound1 : callable\n",
                "       Boundary condition for x = lx\n",
                "    alpha : float\n",
                "       Thermal diffusivity\n",
                "    h : float\n",
                "       Spatial step\n",
                "    tau : float\n",
                "       Time step\n",
                "    tol : float, optional\n",
                "       Target tolerance.\n",
                "       Stop iterations when the 2-norm of the difference between \n",
                "       solution on this time step and the next is less the tol.\n",
                "       \n",
                "    Returns\n",
                "    -------\n",
                "    t_end : ndarray, shape (n,)\n",
                "       End time of calculation\n",
                "    u_end : ndarray, shape (N,)\n",
                "       Limit u_∞(x) (See above)\n",
                "    \"\"\"\n",
                "    N = round(lx/h) + 1\n",
                "    u = np.array(list(map(init, np.linspace(0, lx, num=N))))\n",
                "    u_end = np.empty_like(u)\n",
                "    t_end = tau\n",
                "    n = 0\n",
                "    while n < 1000:\n",
                "      u_end[1:-1] = u[1:-1] + tau * alpha * (u[2:] - 2 * u[1:-1] + u[:-2]) / (h * h)\n",
                "      u_end[0] = bound1(t_end)\n",
                "      u_end[-1] = bound2(t_end)\n",
                "      \n",
                "      if np.linalg.norm(u_end - u) < tol:\n",
                "        return t_end, u_end\n",
                "      u = u_end.copy()\n",
                "      t_end += tau\n",
                "      n += 1\n",
                "    return t_end, u_end"
            ]
        },
        {
            "cell_type": "markdown",
            "metadata": {
                "deletable": false,
                "editable": false,
                "id": "DrCUWlDRXF-x",
                "nbgrader": {
                    "cell_type": "markdown",
                    "checksum": "161e6cfc6c31256b81150e6aa10e5557",
                    "grade": false,
                    "grade_id": "cell-6e6f806519c00523",
                    "locked": true,
                    "schema_version": 3,
                    "solution": false,
                    "task": false
                }
            },
            "source": [
                "Протестируйте Вашу функцию."
            ]
        },
        {
            "cell_type": "code",
            "execution_count": 4,
            "metadata": {
                "deletable": false,
                "editable": false,
                "executionInfo": {
                    "elapsed": 5,
                    "status": "ok",
                    "timestamp": 1633285865124,
                    "user": {
                        "displayName": "Геворг Варданян",
                        "photoUrl": "https://lh3.googleusercontent.com/a/default-user=s64",
                        "userId": "05219355763958203907"
                    },
                    "user_tz": -180
                },
                "id": "k7PWlBdvXF-y",
                "nbgrader": {
                    "cell_type": "code",
                    "checksum": "431e49578ffa8c8b179843350e9f253d",
                    "grade": true,
                    "grade_id": "cell-8e9200a6957eee67",
                    "locked": true,
                    "points": 10,
                    "schema_version": 3,
                    "solution": false,
                    "task": false
                }
            },
            "outputs": [],
            "source": [
                "from numpy.testing import assert_allclose\n",
                "\n",
                "t_0, u_0 = heat_expl(lambda x: 0., lambda x: 1., lambda x: 1., \n",
                "                     alpha=1., lx=1., h=0.1, tau=0.005) \n",
                "assert_allclose(u_0, np.ones(11), atol=1e-2)\n",
                "\n",
                "t_1, u_1 = heat_expl(lambda x: np.sin(4.*x), lambda x: 0., lambda x: 0., \n",
                "                     alpha=1., lx=np.pi, h=0.1, tau=0.005) \n",
                "assert_allclose(u_1, np.zeros(32), atol=1e-2)\n"
            ]
        },
        {
            "cell_type": "markdown",
            "metadata": {
                "deletable": false,
                "editable": false,
                "id": "_MogpQZmXF-z",
                "nbgrader": {
                    "cell_type": "markdown",
                    "checksum": "5bd485d2ea76944454b02cfed02849b7",
                    "grade": false,
                    "grade_id": "cell-64305ddcd2371d49",
                    "locked": true,
                    "points": 0,
                    "schema_version": 3,
                    "solution": false,
                    "task": true
                }
            },
            "source": [
                "Определите порядки точности схемы (по пространству и времени) на тестовой задаче. Для этого для каждой переменной ($t$ или $x$):\n",
                "\n",
                "1. Сделайте несколько расчётов для разных значений шага (например, $h_0, \\; 2 h_0, \\; 4 h_0$).\n",
                "2. В один и тот же момент времени $t_1$ найдите ошибку полученных решений. Для этого либо возьмите аналитическое решение задачи, либо сравните результат в конечный момент времени, например, с решением в момент времени $0.99 t_1$. Обратите внимание, что имеющуюся функцию `heat_expl` надо немного модифицировать.\n",
                "3. Найдите отношения этих ошибок. Сопоставьте полученные величины с порядком аппроксимации схемы по данной переменной."
            ]
        },
        {
            "cell_type": "code",
            "execution_count": 5,
            "metadata": {
                "executionInfo": {
                    "elapsed": 5,
                    "status": "ok",
                    "timestamp": 1633285865125,
                    "user": {
                        "displayName": "Геворг Варданян",
                        "photoUrl": "https://lh3.googleusercontent.com/a/default-user=s64",
                        "userId": "05219355763958203907"
                    },
                    "user_tz": -180
                },
                "id": "rI_VV3N64-pa"
            },
            "outputs": [],
            "source": [
                "u = lambda x, t: np.exp(-9*t)*np.sin(3*x)\n",
                "lx = np.pi\n",
                "t1 = 0.5\n",
                "\n",
                "f = lambda i: np.abs(computed_us[i] - real_us[i])"
            ]
        },
        {
            "cell_type": "code",
            "execution_count": 6,
            "metadata": {
                "deletable": false,
                "executionInfo": {
                    "elapsed": 5,
                    "status": "ok",
                    "timestamp": 1633285865125,
                    "user": {
                        "displayName": "Геворг Варданян",
                        "photoUrl": "https://lh3.googleusercontent.com/a/default-user=s64",
                        "userId": "05219355763958203907"
                    },
                    "user_tz": -180
                },
                "id": "37T5ooR5XF-0",
                "nbgrader": {
                    "cell_type": "code",
                    "checksum": "21d545230c2f40b2511e2f189c8510e4",
                    "grade": true,
                    "grade_id": "cell-b2f692271d252c77",
                    "locked": false,
                    "points": 10,
                    "schema_version": 3,
                    "solution": true,
                    "task": false
                }
            },
            "outputs": [],
            "source": [
                "def heat_expl_modified(t1, init, bound1, bound2, alpha, lx, h, tau, tol=1e-3):\n",
                "    N = round(lx/h) + 1\n",
                "    u = np.array(list(map(init, np.linspace(0, lx, num=N))))\n",
                "    u_end = np.empty_like(u)\n",
                "    t_end = tau\n",
                "    while True:\n",
                "      u_end[1:-1] = u[1:-1] + tau * alpha * (u[2:] - 2 * u[1:-1] + u[:-2]) / (h * h)\n",
                "      u_end[0] = bound1(t_end)\n",
                "      u_end[-1] = bound2(t_end)\n",
                "      \n",
                "      if t_end >= t1:\n",
                "        return u_end\n",
                "      u = u_end.copy()\n",
                "      t_end += tau"
            ]
        },
        {
            "cell_type": "markdown",
            "metadata": {
                "id": "gkYBHuk3ZCN5"
            },
            "source": [
                "### h (без смены tau)"
            ]
        },
        {
            "cell_type": "code",
            "execution_count": 7,
            "metadata": {
                "executionInfo": {
                    "elapsed": 5,
                    "status": "ok",
                    "timestamp": 1633285865421,
                    "user": {
                        "displayName": "Геворг Варданян",
                        "photoUrl": "https://lh3.googleusercontent.com/a/default-user=s64",
                        "userId": "05219355763958203907"
                    },
                    "user_tz": -180
                },
                "id": "P98nv63dT_j8"
            },
            "outputs": [],
            "source": [
                "hs = []\n",
                "ts = []\n",
                "N = 5\n",
                "tau = 0.01\n",
                "while tau / (lx/(N-1))**2 < 1/2:\n",
                "  t_0, u_0 = heat_expl(lambda x: u(x, 0),\n",
                "                       lambda x: u(0, x),\n",
                "                       lambda x: u(lx, x),\n",
                "                       alpha=1,\n",
                "                       lx=lx,\n",
                "                       h=lx/(N-1),\n",
                "                       tau=tau)\n",
                "  if np.allclose(u_0, np.zeros(N), atol=1e-2):\n",
                "    hs.append(lx/(N-1))\n",
                "    ts.append(t_0)\n",
                "  N += 1"
            ]
        },
        {
            "cell_type": "code",
            "execution_count": 8,
            "metadata": {
                "executionInfo": {
                    "elapsed": 5,
                    "status": "ok",
                    "timestamp": 1633285865422,
                    "user": {
                        "displayName": "Геворг Варданян",
                        "photoUrl": "https://lh3.googleusercontent.com/a/default-user=s64",
                        "userId": "05219355763958203907"
                    },
                    "user_tz": -180
                },
                "id": "jTPPyBZb9nBv"
            },
            "outputs": [],
            "source": [
                "computed_us = []\n",
                "real_us = []\n",
                "for h in hs:\n",
                "  u_end = heat_expl_modified(t1,\n",
                "                             lambda x: u(x, 0),\n",
                "                             lambda x: u(0, x),\n",
                "                             lambda x: u(lx, x),\n",
                "                             alpha=1,\n",
                "                             lx=lx,\n",
                "                             h=h,\n",
                "                             tau=tau)\n",
                "  computed_us.append(u_end)\n",
                "  real_us.append(u(np.linspace(0, lx, num=round(lx/h)+1), t1))"
            ]
        },
        {
            "cell_type": "code",
            "execution_count": 9,
            "metadata": {
                "colab": {
                    "base_uri": "https://localhost:8080/",
                    "height": 268
                },
                "executionInfo": {
                    "elapsed": 847,
                    "status": "ok",
                    "timestamp": 1633285866265,
                    "user": {
                        "displayName": "Геворг Варданян",
                        "photoUrl": "https://lh3.googleusercontent.com/a/default-user=s64",
                        "userId": "05219355763958203907"
                    },
                    "user_tz": -180
                },
                "id": "E2HXR4KB_hIS",
                "outputId": "c5b8f69c-4118-4ac3-8a09-4d4deee76abc"
            },
            "outputs": [
                {
                    "data": {
                        "image/png": "[encoded data removed]",
                        "text/plain": [
                            "<Figure size 432x288 with 1 Axes>"
                        ]
                    },
                    "metadata": {
                        "needs_background": "light"
                    },
                    "output_type": "display_data"
                }
            ],
            "source": [
                "error = [hs[i] * (np.sum(f(i)[1:-1]) + (f(i)[0] + f(i)[-1]) / 2) for i in range(len(hs))]\n",
                "\n",
                "plt.plot(hs, error, marker='o')\n",
                "plt.xscale('log')\n",
                "plt.yscale('log')\n",
                "plt.show()"
            ]
        },
        {
            "cell_type": "code",
            "execution_count": 10,
            "metadata": {
                "colab": {
                    "base_uri": "https://localhost:8080/",
                    "height": 268
                },
                "executionInfo": {
                    "elapsed": 844,
                    "status": "ok",
                    "timestamp": 1633285867106,
                    "user": {
                        "displayName": "Геворг Варданян",
                        "photoUrl": "https://lh3.googleusercontent.com/a/default-user=s64",
                        "userId": "05219355763958203907"
                    },
                    "user_tz": -180
                },
                "id": "IZzV5l9j0k_A",
                "outputId": "3a1b711d-8f70-4fb7-b3e1-9c270c44c242"
            },
            "outputs": [
                {
                    "data": {
                        "image/png": "[encoded data removed]",
                        "text/plain": [
                            "<Figure size 432x288 with 1 Axes>"
                        ]
                    },
                    "metadata": {
                        "needs_background": "light"
                    },
                    "output_type": "display_data"
                }
            ],
            "source": [
                "hs = hs[:8]+hs[-8:]\n",
                "computed_us = computed_us[:8]+computed_us[-8:]\n",
                "real_us = real_us[:8]+real_us[-8:]\n",
                "\n",
                "error = [hs[i] * (np.sum(f(i)[1:-1]) + (f(i)[0] + f(i)[-1]) / 2) for i in range(len(hs))]\n",
                "\n",
                "plt.plot(hs, error, marker='o')\n",
                "plt.xscale('log')\n",
                "plt.yscale('log')\n",
                "plt.show()"
            ]
        },
        {
            "cell_type": "markdown",
            "metadata": {
                "id": "U-AuDpycZK3d"
            },
            "source": [
                "\n",
                "### tau (без смены h)"
            ]
        },
        {
            "cell_type": "code",
            "execution_count": 11,
            "metadata": {
                "executionInfo": {
                    "elapsed": 5,
                    "status": "ok",
                    "timestamp": 1633285867107,
                    "user": {
                        "displayName": "Геворг Варданян",
                        "photoUrl": "https://lh3.googleusercontent.com/a/default-user=s64",
                        "userId": "05219355763958203907"
                    },
                    "user_tz": -180
                },
                "id": "ptEk7jBbZK3d"
            },
            "outputs": [],
            "source": [
                "taus = []\n",
                "ts = []\n",
                "N = 15\n",
                "h = np.pi/(N-1)\n",
                "tau = 0.005\n",
                "while tau / h**2 < 1/2:\n",
                "  t_0, u_0 = heat_expl(lambda x: u(x, 0),\n",
                "                       lambda t: 0,\n",
                "                       lambda t: 0,\n",
                "                       alpha=1,\n",
                "                       lx=lx,\n",
                "                       h=h,\n",
                "                       tau=tau)\n",
                "  if np.allclose(u_0, np.zeros(N), atol=1e-2):\n",
                "    taus.append(tau)\n",
                "    ts.append(t_0)\n",
                "  tau += 0.001"
            ]
        },
        {
            "cell_type": "code",
            "execution_count": 12,
            "metadata": {
                "executionInfo": {
                    "elapsed": 4,
                    "status": "ok",
                    "timestamp": 1633285867108,
                    "user": {
                        "displayName": "Геворг Варданян",
                        "photoUrl": "https://lh3.googleusercontent.com/a/default-user=s64",
                        "userId": "05219355763958203907"
                    },
                    "user_tz": -180
                },
                "id": "HrDp6r1aZK3e"
            },
            "outputs": [],
            "source": [
                "computed_us = []\n",
                "real_us = []\n",
                "for tau in taus:\n",
                "  u_end = heat_expl_modified(t1,\n",
                "                             lambda x: u(x, 0),\n",
                "                             lambda t: 0,\n",
                "                             lambda t: 0,\n",
                "                             alpha=1,\n",
                "                             lx=lx,\n",
                "                             h=h,\n",
                "                             tau=tau)\n",
                "  computed_us.append(u_end)\n",
                "  real_us.append(u(np.linspace(0, lx, num=round(lx/h)+1), t1))"
            ]
        },
        {
            "cell_type": "code",
            "execution_count": 13,
            "metadata": {
                "colab": {
                    "base_uri": "https://localhost:8080/",
                    "height": 0
                },
                "executionInfo": {
                    "elapsed": 870,
                    "status": "ok",
                    "timestamp": 1633285867974,
                    "user": {
                        "displayName": "Геворг Варданян",
                        "photoUrl": "https://lh3.googleusercontent.com/a/default-user=s64",
                        "userId": "05219355763958203907"
                    },
                    "user_tz": -180
                },
                "id": "NWOM6fY6ZK3e",
                "outputId": "2d2eb022-5ae6-4e89-a6f0-df2a230042cb"
            },
            "outputs": [
                {
                    "data": {
                        "image/png": "[encoded data removed]",
                        "text/plain": [
                            "<Figure size 432x288 with 1 Axes>"
                        ]
                    },
                    "metadata": {
                        "needs_background": "light"
                    },
                    "output_type": "display_data"
                }
            ],
            "source": [
                "error = [h * (np.sum(f(i)[1:-1]) + (f(i)[0] + f(i)[-1]) / 2) for i in range(len(taus))]\n",
                "\n",
                "plt.plot(taus, error, marker='o')\n",
                "plt.xscale('log')\n",
                "plt.yscale('log')\n",
                "plt.show()"
            ]
        },
        {
            "cell_type": "markdown",
            "metadata": {
                "id": "ISrmBO6F2oI6"
            },
            "source": [
                "### h"
            ]
        },
        {
            "cell_type": "code",
            "execution_count": 14,
            "metadata": {
                "executionInfo": {
                    "elapsed": 6,
                    "status": "ok",
                    "timestamp": 1633285867975,
                    "user": {
                        "displayName": "Геворг Варданян",
                        "photoUrl": "https://lh3.googleusercontent.com/a/default-user=s64",
                        "userId": "05219355763958203907"
                    },
                    "user_tz": -180
                },
                "id": "v_X3aBuN2oJB"
            },
            "outputs": [],
            "source": [
                "hs = []\n",
                "ts = []\n",
                "taus = []\n",
                "for N in range(5, 30):\n",
                "  tau = (lx/(N-1))**2 / 5\n",
                "  t_0, u_0 = heat_expl(lambda x: u(x, 0),\n",
                "                       lambda t: 0,\n",
                "                       lambda t: 0,\n",
                "                       alpha=1,\n",
                "                       lx=lx,\n",
                "                       h=lx/(N-1),\n",
                "                       tau=tau)\n",
                "  if np.allclose(u_0, np.zeros(N), atol=1e-2):\n",
                "    hs.append(lx/(N-1))\n",
                "    ts.append(t_0)\n",
                "    taus.append(tau)"
            ]
        },
        {
            "cell_type": "code",
            "execution_count": 15,
            "metadata": {
                "executionInfo": {
                    "elapsed": 7,
                    "status": "ok",
                    "timestamp": 1633285867976,
                    "user": {
                        "displayName": "Геворг Варданян",
                        "photoUrl": "https://lh3.googleusercontent.com/a/default-user=s64",
                        "userId": "05219355763958203907"
                    },
                    "user_tz": -180
                },
                "id": "cP14IxiH2oJD"
            },
            "outputs": [],
            "source": [
                "computed_us = []\n",
                "real_us = []\n",
                "for (h, tau) in zip(hs, taus):\n",
                "  u_end = heat_expl_modified(t1,\n",
                "                             lambda x: u(x, 0),\n",
                "                             lambda t: 0,\n",
                "                             lambda t: 0,\n",
                "                             alpha=1,\n",
                "                             lx=lx,\n",
                "                             h=h,\n",
                "                             tau=tau)\n",
                "  computed_us.append(u_end)\n",
                "  real_us.append(u(np.linspace(0, lx, num=round(lx/h)+1), t1))"
            ]
        },
        {
            "cell_type": "code",
            "execution_count": 16,
            "metadata": {
                "colab": {
                    "base_uri": "https://localhost:8080/",
                    "height": 0
                },
                "executionInfo": {
                    "elapsed": 650,
                    "status": "ok",
                    "timestamp": 1633285868620,
                    "user": {
                        "displayName": "Геворг Варданян",
                        "photoUrl": "https://lh3.googleusercontent.com/a/default-user=s64",
                        "userId": "05219355763958203907"
                    },
                    "user_tz": -180
                },
                "id": "5TjvnWmr2oJE",
                "outputId": "8c0ea37d-c141-46ae-f594-f32998dc5454"
            },
            "outputs": [
                {
                    "data": {
                        "image/png": "[encoded data removed]",
                        "text/plain": [
                            "<Figure size 432x288 with 1 Axes>"
                        ]
                    },
                    "metadata": {
                        "needs_background": "light"
                    },
                    "output_type": "display_data"
                }
            ],
            "source": [
                "error = [hs[i] * (np.sum(f(i)[1:-1]) + (f(i)[0] + f(i)[-1]) / 2) for i in range(len(hs))]\n",
                "\n",
                "plt.plot(hs, error, marker='o')\n",
                "plt.xscale('log')\n",
                "plt.yscale('log')\n",
                "plt.show()"
            ]
        },
        {
            "cell_type": "markdown",
            "metadata": {
                "id": "SQRIjeYEEYjj"
            },
            "source": [
                "\n",
                "### tau"
            ]
        },
        {
            "cell_type": "code",
            "execution_count": 50,
            "metadata": {
                "executionInfo": {
                    "elapsed": 259,
                    "status": "ok",
                    "timestamp": 1633285985948,
                    "user": {
                        "displayName": "Геворг Варданян",
                        "photoUrl": "https://lh3.googleusercontent.com/a/default-user=s64",
                        "userId": "05219355763958203907"
                    },
                    "user_tz": -180
                },
                "id": "ey7R4lTw9kET"
            },
            "outputs": [],
            "source": [
                "hs = []\n",
                "ts = []\n",
                "taus = np.linspace(0.0075, 0.025)\n",
                "for tau in taus:\n",
                "  N = 3\n",
                "  while tau/(lx/(N-1))**2 < 1/3:\n",
                "    N += 1\n",
                "  assert tau/(lx/(N-1))**2 < 1/2\n",
                "\n",
                "  t_0, u_0 = heat_expl(lambda x: u(x, 0),\n",
                "                       lambda t: 0,\n",
                "                       lambda t: 0,\n",
                "                       alpha=1,\n",
                "                       lx=lx,\n",
                "                       h=lx/(N-1),\n",
                "                       tau=tau)\n",
                "  if np.allclose(u_0, np.zeros(N), atol=1e-2):\n",
                "    hs.append(lx/(N-1))\n",
                "    ts.append(t_0)"
            ]
        },
        {
            "cell_type": "code",
            "execution_count": 51,
            "metadata": {
                "colab": {
                    "base_uri": "https://localhost:8080/"
                },
                "executionInfo": {
                    "elapsed": 6,
                    "status": "ok",
                    "timestamp": 1633285986204,
                    "user": {
                        "displayName": "Геворг Варданян",
                        "photoUrl": "https://lh3.googleusercontent.com/a/default-user=s64",
                        "userId": "05219355763958203907"
                    },
                    "user_tz": -180
                },
                "id": "9AqbycwK_bM7",
                "outputId": "bd5cec15-a904-4eef-ccdd-997efd26258e"
            },
            "outputs": [
                {
                    "name": "stdout",
                    "output_type": "stream",
                    "text": [
                        "50 50\n"
                    ]
                }
            ],
            "source": [
                "print(len(taus), len(hs))"
            ]
        },
        {
            "cell_type": "code",
            "execution_count": 52,
            "metadata": {
                "executionInfo": {
                    "elapsed": 3,
                    "status": "ok",
                    "timestamp": 1633285986204,
                    "user": {
                        "displayName": "Геворг Варданян",
                        "photoUrl": "https://lh3.googleusercontent.com/a/default-user=s64",
                        "userId": "05219355763958203907"
                    },
                    "user_tz": -180
                },
                "id": "FcCNt60lApS1"
            },
            "outputs": [],
            "source": [
                "computed_us = []\n",
                "real_us = []\n",
                "for (h, tau) in zip(hs, taus):\n",
                "  u_end = heat_expl_modified(t1,\n",
                "                             lambda x: u(x, 0),\n",
                "                             lambda t: 0,\n",
                "                             lambda t: 0,\n",
                "                             alpha=1,\n",
                "                             lx=lx,\n",
                "                             h=h,\n",
                "                             tau=tau)\n",
                "  computed_us.append(u_end)\n",
                "  real_us.append(u(np.linspace(0, lx, num=round(lx/h)+1), t1))"
            ]
        },
        {
            "cell_type": "code",
            "execution_count": 53,
            "metadata": {
                "colab": {
                    "base_uri": "https://localhost:8080/",
                    "height": 269
                },
                "executionInfo": {
                    "elapsed": 588,
                    "status": "ok",
                    "timestamp": 1633285987069,
                    "user": {
                        "displayName": "Геворг Варданян",
                        "photoUrl": "https://lh3.googleusercontent.com/a/default-user=s64",
                        "userId": "05219355763958203907"
                    },
                    "user_tz": -180
                },
                "id": "BKk9coXaArdR",
                "outputId": "906a5f3b-674f-4123-ed7e-b1ee2ce4e466"
            },
            "outputs": [
                {
                    "data": {
                        "image/png": "[encoded data removed]",
                        "text/plain": [
                            "<Figure size 432x288 with 1 Axes>"
                        ]
                    },
                    "metadata": {
                        "needs_background": "light"
                    },
                    "output_type": "display_data"
                }
            ],
            "source": [
                "error = [hs[i] * (np.sum(f(i)[1:-1]) + (f(i)[0] + f(i)[-1]) / 2) for i in range(len(taus))]\n",
                "\n",
                "plt.plot(taus, error, marker='o')\n",
                "plt.xscale('log')\n",
                "plt.yscale('log')\n",
                "plt.show()"
            ]
        },
        {
            "cell_type": "markdown",
            "metadata": {
                "id": "wmE-Eu_VXF-1"
            },
            "source": [
                "## Неявная схема "
            ]
        },
        {
            "cell_type": "markdown",
            "metadata": {
                "deletable": false,
                "editable": false,
                "id": "oaIKvDoSXF-1",
                "nbgrader": {
                    "cell_type": "markdown",
                    "checksum": "bd301d8a40d38b24024f1ace73691c65",
                    "grade": false,
                    "grade_id": "cell-1e7f779d58e95cd8",
                    "locked": true,
                    "schema_version": 3,
                    "solution": false,
                    "task": false
                }
            },
            "source": [
                "Запишем разностное уравнение неявной схемы:\n",
                "$$\\dfrac{y_i^{k+1} - y_i^{k}}{\\tau} = \\alpha \\dfrac{y_{i+1}^{k+1} - 2 y_i^{k+1} + y_{i-1}^{k+1}}{h^2} + f_i^{k+1}.$$\n",
                "\n",
                "Аппроксимировать начальное и граничные условия будем так же, как в случае явной схемы."
            ]
        },
        {
            "cell_type": "markdown",
            "metadata": {
                "deletable": false,
                "editable": false,
                "id": "McozaQFHXF-2",
                "nbgrader": {
                    "cell_type": "markdown",
                    "checksum": "0776e244056e2f5ffc45874062d692d5",
                    "grade": false,
                    "grade_id": "cell-212525deebf0e803",
                    "locked": true,
                    "schema_version": 3,
                    "solution": false,
                    "task": false
                }
            },
            "source": [
                "Запрограммируйте явную разностную схему решения начально-краевой задачи для однородного уравнения теплопроводности. Для решения системы линейных уравнений используйте встроенные функции `scipy`."
            ]
        },
        {
            "cell_type": "code",
            "execution_count": 21,
            "metadata": {
                "deletable": false,
                "executionInfo": {
                    "elapsed": 9,
                    "status": "ok",
                    "timestamp": 1633285869310,
                    "user": {
                        "displayName": "Геворг Варданян",
                        "photoUrl": "https://lh3.googleusercontent.com/a/default-user=s64",
                        "userId": "05219355763958203907"
                    },
                    "user_tz": -180
                },
                "id": "oo1fNg2VXF-2",
                "nbgrader": {
                    "cell_type": "code",
                    "checksum": "400880cf7cac5bd8edbc78017b0602b8",
                    "grade": false,
                    "grade_id": "cell-748ac47f86cabee5",
                    "locked": false,
                    "schema_version": 3,
                    "solution": true,
                    "task": false
                }
            },
            "outputs": [],
            "source": [
                "def heat_impl(init, bound1, bound2, alpha, lx, h, tau, tol=1e-3):\n",
                "    \"\"\" Solve heat equation u_t = a*u_xx for x in (0; lx) with implicit scheme\n",
                "    \n",
                "    Parameters\n",
                "    ----------\n",
                "    init : callable\n",
                "       Initial condition\n",
                "    bound1 : callable\n",
                "       Boundary condition for x = 0\n",
                "    bound1 : callable\n",
                "       Boundary condition for x = lx\n",
                "    alpha : float, optional\n",
                "       Thermal diffusivity\n",
                "    h : float\n",
                "       Spatial step\n",
                "    tau : float\n",
                "       Time step\n",
                "    tol : float, optional\n",
                "       Target tolerance.\n",
                "       Stop iterations when the 2-norm of the difference between \n",
                "       solution on this time step and the next is less the tol.\n",
                "       \n",
                "    Returns\n",
                "    -------\n",
                "    t_end : ndarray, shape (n,)\n",
                "       End time of calculation\n",
                "    u_end : ndarray, shape (N,)\n",
                "       Limit u_∞(x) (See above)\n",
                "    \"\"\"\n",
                "    N = round(lx/h) + 1\n",
                "    u = np.array(list(map(init, np.linspace(0, lx, num=N))))\n",
                "    u_end = np.empty_like(u)\n",
                "    t_end = tau\n",
                "    gamma = alpha * tau / h**2\n",
                "    n = 0\n",
                "    ab = np.zeros((3, N))\n",
                "    ab[0, 2:] = ab[2, :-2] = -gamma\n",
                "    ab[1] = 1\n",
                "    ab[1, 1:-1] += 2*gamma\n",
                "    while n < 1000:\n",
                "      b = u.copy()\n",
                "      b[0] = bound1(t_end)\n",
                "      b[-1] = bound2(t_end)\n",
                "      u_end = linalg.solve_banded((1, 1), ab, b)\n",
                "\n",
                "      if np.linalg.norm(u_end - u) < tol:\n",
                "        return t_end, u_end\n",
                "      u = u_end.copy()\n",
                "      t_end += tau\n",
                "      n += 1\n",
                "        \n",
                "    return t_end, u_end"
            ]
        },
        {
            "cell_type": "markdown",
            "metadata": {
                "deletable": false,
                "editable": false,
                "id": "Vj8EqJMwXF-3",
                "nbgrader": {
                    "cell_type": "markdown",
                    "checksum": "9e6f300ac1aa0b9646c4ebf3a4cc0e76",
                    "grade": false,
                    "grade_id": "cell-8e4565c92424287b",
                    "locked": true,
                    "schema_version": 3,
                    "solution": false,
                    "task": false
                }
            },
            "source": [
                "Протестируйте Вашу функцию."
            ]
        },
        {
            "cell_type": "code",
            "execution_count": 22,
            "metadata": {
                "deletable": false,
                "editable": false,
                "executionInfo": {
                    "elapsed": 9,
                    "status": "ok",
                    "timestamp": 1633285869311,
                    "user": {
                        "displayName": "Геворг Варданян",
                        "photoUrl": "https://lh3.googleusercontent.com/a/default-user=s64",
                        "userId": "05219355763958203907"
                    },
                    "user_tz": -180
                },
                "id": "SmA46PxPXF-3",
                "nbgrader": {
                    "cell_type": "code",
                    "checksum": "18efc0a341cc626738a8bc0dce1baede",
                    "grade": true,
                    "grade_id": "cell-63d041371de8d78d",
                    "locked": true,
                    "points": 10,
                    "schema_version": 3,
                    "solution": false,
                    "task": false
                }
            },
            "outputs": [],
            "source": [
                "from numpy.testing import assert_allclose\n",
                "\n",
                "t_0, u_0 = heat_impl(lambda x: 0, lambda x: 1., lambda x: 1., \n",
                "                     alpha=1., lx=1., h=0.1, tau=0.005) \n",
                "assert_allclose(u_0, np.ones(11), atol=1e-2)\n",
                "\n",
                "t_1, u_1 = heat_impl(lambda x: np.sin(4.*x), lambda x: 0., lambda x: 0., \n",
                "                     alpha=1., lx=np.pi, h=0.1, tau=0.005) \n",
                "assert_allclose(u_1, np.zeros(32), atol=1e-2)\n"
            ]
        },
        {
            "cell_type": "markdown",
            "metadata": {
                "id": "-H-jRvqBXF-3"
            },
            "source": [
                "Определите порядки точности схемы (по пространству и времени) на тестовой задаче. (см. выше)"
            ]
        },
        {
            "cell_type": "code",
            "execution_count": 23,
            "metadata": {
                "deletable": false,
                "executionInfo": {
                    "elapsed": 9,
                    "status": "ok",
                    "timestamp": 1633285869311,
                    "user": {
                        "displayName": "Геворг Варданян",
                        "photoUrl": "https://lh3.googleusercontent.com/a/default-user=s64",
                        "userId": "05219355763958203907"
                    },
                    "user_tz": -180
                },
                "id": "RCvR6i-RvLw6",
                "nbgrader": {
                    "cell_type": "code",
                    "checksum": "21d545230c2f40b2511e2f189c8510e4",
                    "grade": true,
                    "grade_id": "cell-b2f692271d252c77",
                    "locked": false,
                    "points": 10,
                    "schema_version": 3,
                    "solution": true,
                    "task": false
                }
            },
            "outputs": [],
            "source": [
                "def heat_impl_modified(t1, init, bound1, bound2, alpha, lx, h, tau, tol=1e-3):\n",
                "    N = round(lx/h) + 1\n",
                "    u = np.array(list(map(init, np.linspace(0, lx, num=N))))\n",
                "    u_end = np.empty_like(u)\n",
                "    t_end = tau\n",
                "    gamma = alpha * tau / h**2\n",
                "    n = 0\n",
                "    ab = np.zeros((3, N))\n",
                "    ab[0, 2:] = ab[2, :-2] = -gamma\n",
                "    ab[1] = 1\n",
                "    ab[1, 1:-1] += 2*gamma\n",
                "    while True:\n",
                "      b = u.copy()\n",
                "      b[0] = bound1(t_end)\n",
                "      b[-1] = bound2(t_end)\n",
                "      u_end = linalg.solve_banded((1, 1), ab, b)\n",
                "\n",
                "      if t_end >= t1:\n",
                "        return u_end\n",
                "      u = u_end.copy()\n",
                "      t_end += tau"
            ]
        },
        {
            "cell_type": "markdown",
            "metadata": {
                "id": "a_xOokBkvLw6"
            },
            "source": [
                "### h"
            ]
        },
        {
            "cell_type": "code",
            "execution_count": 24,
            "metadata": {
                "executionInfo": {
                    "elapsed": 287,
                    "status": "ok",
                    "timestamp": 1633285869590,
                    "user": {
                        "displayName": "Геворг Варданян",
                        "photoUrl": "https://lh3.googleusercontent.com/a/default-user=s64",
                        "userId": "05219355763958203907"
                    },
                    "user_tz": -180
                },
                "id": "rB1vH4tSvLw6"
            },
            "outputs": [],
            "source": [
                "hs = []\n",
                "ts = []\n",
                "for N in range(5, 100):\n",
                "  t_0, u_0 = heat_impl(lambda x: u(x, 0),\n",
                "                       lambda t: 0,\n",
                "                       lambda t: 0,\n",
                "                       alpha=1,\n",
                "                       lx=lx,\n",
                "                       h=lx/(N-1),\n",
                "                       tau=0.004)\n",
                "  if np.allclose(u_0, np.zeros(N), atol=1e-2):\n",
                "    hs.append(lx/(N-1))\n",
                "    ts.append(t_0)"
            ]
        },
        {
            "cell_type": "code",
            "execution_count": 25,
            "metadata": {
                "executionInfo": {
                    "elapsed": 282,
                    "status": "ok",
                    "timestamp": 1633285869871,
                    "user": {
                        "displayName": "Геворг Варданян",
                        "photoUrl": "https://lh3.googleusercontent.com/a/default-user=s64",
                        "userId": "05219355763958203907"
                    },
                    "user_tz": -180
                },
                "id": "KQIgRFZJvLw7"
            },
            "outputs": [],
            "source": [
                "computed_us = []\n",
                "real_us = []\n",
                "for h in hs:\n",
                "  u_end = heat_impl_modified(t1,\n",
                "                             lambda x: u(x, 0),\n",
                "                             lambda t: 0,\n",
                "                             lambda t: 0,\n",
                "                             alpha=1,\n",
                "                             lx=lx,\n",
                "                             h=h,\n",
                "                             tau=0.004)\n",
                "  computed_us.append(u_end)\n",
                "  real_us.append(u(np.linspace(0, lx, num=round(lx/h)+1), t1))"
            ]
        },
        {
            "cell_type": "code",
            "execution_count": 26,
            "metadata": {
                "colab": {
                    "base_uri": "https://localhost:8080/",
                    "height": 269
                },
                "executionInfo": {
                    "elapsed": 532,
                    "status": "ok",
                    "timestamp": 1633285870710,
                    "user": {
                        "displayName": "Геворг Варданян",
                        "photoUrl": "https://lh3.googleusercontent.com/a/default-user=s64",
                        "userId": "05219355763958203907"
                    },
                    "user_tz": -180
                },
                "id": "mFkJmf6pvLw7",
                "outputId": "31f431b6-dd06-421c-f8ed-049d0a614c35"
            },
            "outputs": [
                {
                    "data": {
                        "image/png": "[encoded data removed]",
                        "text/plain": [
                            "<Figure size 432x288 with 1 Axes>"
                        ]
                    },
                    "metadata": {
                        "needs_background": "light"
                    },
                    "output_type": "display_data"
                }
            ],
            "source": [
                "error = [hs[i] * (np.sum(f(i)[1:-1]) + (f(i)[0] + f(i)[-1]) / 2) for i in range(len(hs))]\n",
                "\n",
                "plt.plot(hs, error, marker='o')\n",
                "plt.xscale('log')\n",
                "plt.yscale('log')\n",
                "plt.show()"
            ]
        },
        {
            "cell_type": "markdown",
            "metadata": {
                "id": "aadxcJIew4Cd"
            },
            "source": [
                "### tau"
            ]
        },
        {
            "cell_type": "code",
            "execution_count": 27,
            "metadata": {
                "executionInfo": {
                    "elapsed": 8,
                    "status": "ok",
                    "timestamp": 1633285870711,
                    "user": {
                        "displayName": "Геворг Варданян",
                        "photoUrl": "https://lh3.googleusercontent.com/a/default-user=s64",
                        "userId": "05219355763958203907"
                    },
                    "user_tz": -180
                },
                "id": "9WowUr54w4Ce"
            },
            "outputs": [],
            "source": [
                "taus = []\n",
                "ts = []\n",
                "N = 15\n",
                "h = lx/(N-1)\n",
                "tau = 0.005\n",
                "for tau in np.linspace(0.0075, 0.1):\n",
                "  t_0, u_0 = heat_impl(lambda x: u(x, 0),\n",
                "                       lambda t: 0,\n",
                "                       lambda t: 0,\n",
                "                       alpha=1,\n",
                "                       lx=lx,\n",
                "                       h=h,\n",
                "                       tau=tau)\n",
                "  if np.allclose(u_0, np.zeros(N), atol=1e-2):\n",
                "    taus.append(tau)\n",
                "    ts.append(t_0)"
            ]
        },
        {
            "cell_type": "code",
            "execution_count": 28,
            "metadata": {
                "executionInfo": {
                    "elapsed": 9,
                    "status": "ok",
                    "timestamp": 1633285870713,
                    "user": {
                        "displayName": "Геворг Варданян",
                        "photoUrl": "https://lh3.googleusercontent.com/a/default-user=s64",
                        "userId": "05219355763958203907"
                    },
                    "user_tz": -180
                },
                "id": "zXZa55w4w4Ce"
            },
            "outputs": [],
            "source": [
                "computed_us = []\n",
                "real_us = []\n",
                "for tau in taus:\n",
                "  u_end = heat_expl_modified(t1,\n",
                "                             lambda x: u(x, 0),\n",
                "                             lambda t: 0,\n",
                "                             lambda t: 0,\n",
                "                             alpha=1,\n",
                "                             lx=lx,\n",
                "                             h=h,\n",
                "                             tau=tau)\n",
                "  computed_us.append(u_end)\n",
                "  real_us.append(u(np.linspace(0, lx, num=round(lx/h)+1), t1))"
            ]
        },
        {
            "cell_type": "code",
            "execution_count": 29,
            "metadata": {
                "colab": {
                    "base_uri": "https://localhost:8080/",
                    "height": 269
                },
                "executionInfo": {
                    "elapsed": 568,
                    "status": "ok",
                    "timestamp": 1633285871274,
                    "user": {
                        "displayName": "Геворг Варданян",
                        "photoUrl": "https://lh3.googleusercontent.com/a/default-user=s64",
                        "userId": "05219355763958203907"
                    },
                    "user_tz": -180
                },
                "id": "7MQIIQR4w4Ce",
                "outputId": "8d3d5f7a-7cac-44d6-adec-3060eaa0b335"
            },
            "outputs": [
                {
                    "data": {
                        "image/png": "[encoded data removed]",
                        "text/plain": [
                            "<Figure size 432x288 with 1 Axes>"
                        ]
                    },
                    "metadata": {
                        "needs_background": "light"
                    },
                    "output_type": "display_data"
                }
            ],
            "source": [
                "error = [h * (np.sum(f(i)[1:-1]) + (f(i)[0] + f(i)[-1]) / 2) for i in range(len(taus))]\n",
                "\n",
                "plt.plot(taus, error, marker='o')\n",
                "plt.xscale('log')\n",
                "plt.yscale('log')\n",
                "plt.show()"
            ]
        },
        {
            "cell_type": "code",
            "execution_count": 29,
            "metadata": {
                "executionInfo": {
                    "elapsed": 9,
                    "status": "ok",
                    "timestamp": 1633285871275,
                    "user": {
                        "displayName": "Геворг Варданян",
                        "photoUrl": "https://lh3.googleusercontent.com/a/default-user=s64",
                        "userId": "05219355763958203907"
                    },
                    "user_tz": -180
                },
                "id": "uPddsDeKYRzb"
            },
            "outputs": [],
            "source": []
        }
    ],
    "metadata": {
        "kernelspec": {
            "display_name": "Python 3",
            "language": "python",
            "name": "python3"
        },
        "language_info": {
            "codemirror_mode": {
                "name": "ipython",
                "version": 3
            },
            "file_extension": ".py",
            "mimetype": "text/x-python",
            "name": "python",
            "nbconvert_exporter": "python",
            "pygments_lexer": "ipython3",
            "version": "3.8.10"
        }
    },
    "nbformat": 4,
    "nbformat_minor": 0
}