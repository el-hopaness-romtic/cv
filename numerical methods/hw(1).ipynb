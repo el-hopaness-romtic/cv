{
    "nbformat": 4,
    "nbformat_minor": 0,
    "metadata": {
        "colab": {
            "name": "hw.ipynb",
            "provenance": [],
            "collapsed_sections": [],
            "toc_visible": true
        },
        "kernelspec": {
            "name": "python3",
            "display_name": "Python 3"
        },
        "language_info": {
            "name": "python"
        }
    },
    "cells": [
        {
            "cell_type": "markdown",
            "metadata": {
                "id": "iFa6-_QixDDj"
            },
            "source": [
                "# Задание 1"
            ]
        },
        {
            "cell_type": "code",
            "metadata": {
                "id": "iJw-yL1LmO2L"
            },
            "source": [
                "import autograd.numpy as np\n",
                "from scipy.optimize import minimize"
            ],
            "execution_count": 1,
            "outputs": []
        },
        {
            "cell_type": "code",
            "metadata": {
                "id": "QE9ODZHdlQ1j"
            },
            "source": [
                "with np.load('data_89.npz') as data:\n",
                "    A2, y2 = data['A2'], data['y2']"
            ],
            "execution_count": 2,
            "outputs": []
        },
        {
            "cell_type": "code",
            "metadata": {
                "id": "J5UUzEyZmRD-"
            },
            "source": [
                "def f(x, a):\n",
                "  e = np.exp(a[0] + x @ a[1:])\n",
                "  return 1 / (e + 1)\n",
                "\n",
                "def target(a):\n",
                "  return np.sum((f(A2, a) - y2) ** 2)"
            ],
            "execution_count": 3,
            "outputs": []
        },
        {
            "cell_type": "code",
            "metadata": {
                "colab": {
                    "base_uri": "https://localhost:8080/"
                },
                "id": "c8Rboax0sE9g",
                "outputId": "346fd7d6-f7ad-40cf-eefa-3dba14881adc"
            },
            "source": [
                "result = minimize(target, np.random.random(11))\n",
                "print(result.message)\n",
                "print('\\na =', result.x)\n",
                "print('\\ntarget(a) =', target(result.x))"
            ],
            "execution_count": 4,
            "outputs": [
                {
                    "output_type": "stream",
                    "text": [
                        "Optimization terminated successfully.\n",
                        "\n",
                        "a = [ 0.58399346  0.32173976 -0.1135061   1.99867791 -0.31950997 -0.28388097\n",
                        " -0.35960309 -0.02188886  0.00987748  1.5332876  -0.59548832]\n",
                        "\n",
                        "target(a) = 0.043552775905373486\n"
                    ],
                    "name": "stdout"
                }
            ]
        },
        {
            "cell_type": "markdown",
            "metadata": {
                "id": "6zpqFL4rycyH"
            },
            "source": [
                "# Задание 2"
            ]
        },
        {
            "cell_type": "code",
            "metadata": {
                "id": "jPiiFCTbAQxY"
            },
            "source": [
                "from autograd import grad"
            ],
            "execution_count": 5,
            "outputs": []
        },
        {
            "cell_type": "code",
            "metadata": {
                "id": "djdt3HW6AYLB"
            },
            "source": [
                "gamma = 0.01"
            ],
            "execution_count": 6,
            "outputs": []
        },
        {
            "cell_type": "code",
            "metadata": {
                "id": "SH01sU1YBYyR"
            },
            "source": [
                "def autograd(max_iter=10000):\n",
                "  n_iter = 0\n",
                "  a = np.random.rand(11)\n",
                "  grad_target = grad(target)\n",
                "  \n",
                "  while True:\n",
                "    n_iter += 1\n",
                "    new_a = a - gamma * grad_target(a)\n",
                "    \n",
                "    if np.linalg.norm(new_a - a) < 1e-6 or n_iter > max_iter:\n",
                "      break\n",
                "    \n",
                "    a = new_a\n",
                "  \n",
                "  return new_a  "
            ],
            "execution_count": 7,
            "outputs": []
        },
        {
            "cell_type": "code",
            "metadata": {
                "colab": {
                    "base_uri": "https://localhost:8080/"
                },
                "id": "U0J53F53B0dm",
                "outputId": "972d64de-e994-4770-c596-de4822a9e800"
            },
            "source": [
                "a = autograd()\n",
                "print('a =', a)\n",
                "print('\\ntarget(a) =', target(a))"
            ],
            "execution_count": 8,
            "outputs": [
                {
                    "output_type": "stream",
                    "text": [
                        "a = [ 0.33027256  0.26326169 -0.01038574  1.95299268 -0.14326787 -0.30571338\n",
                        " -0.26057924 -0.17266169  0.10436446  1.58070796 -0.60518055]\n",
                        "\n",
                        "target(a) = 0.04385256341127128\n"
                    ],
                    "name": "stdout"
                }
            ]
        },
        {
            "cell_type": "code",
            "metadata": {
                "id": "ksO1GQDvH2YB"
            },
            "source": [
                "def mygrad_target(a):\n",
                "  grad = np.zeros_like(a)\n",
                "\n",
                "  for i in range(len(a)):\n",
                "    h = np.zeros_like(a)\n",
                "    h[i] = 1e-8\n",
                "    grad[i] = (target(a + h) - target(a)) / 1e-8\n",
                "\n",
                "  return grad\n",
                "\n",
                "def mygrad(max_iter=10000):\n",
                "  n_iter = 0\n",
                "  a = np.random.rand(11)\n",
                "  \n",
                "  while True:\n",
                "    n_iter += 1\n",
                "    new_a = a - gamma * mygrad_target(a)\n",
                "    \n",
                "    if np.linalg.norm(new_a - a) < 1e-6 or n_iter > max_iter:\n",
                "      break\n",
                "    \n",
                "    a = new_a\n",
                "  \n",
                "  return new_a  "
            ],
            "execution_count": 9,
            "outputs": []
        },
        {
            "cell_type": "code",
            "metadata": {
                "colab": {
                    "base_uri": "https://localhost:8080/"
                },
                "id": "9YsfM-ORIv1h",
                "outputId": "8b5b7b1e-39b1-4a90-be99-8ea7f82d9c40"
            },
            "source": [
                "a = mygrad()\n",
                "print('a =', a)\n",
                "print('\\ntarget(a) =', target(a))"
            ],
            "execution_count": 10,
            "outputs": [
                {
                    "output_type": "stream",
                    "text": [
                        "a = [ 3.03385622e-01  2.56866564e-01  2.41968394e-04  1.94917542e+00\n",
                        " -1.24215534e-01 -3.08090936e-01 -2.50855167e-01 -1.88685699e-01\n",
                        "  1.14040969e-01  1.58606260e+00 -6.06444661e-01]\n",
                        "\n",
                        "target(a) = 0.043923600776904194\n"
                    ],
                    "name": "stdout"
                }
            ]
        },
        {
            "cell_type": "markdown",
            "metadata": {
                "id": "rjCx803xKJ4M"
            },
            "source": [
                "# Задание 3"
            ]
        },
        {
            "cell_type": "code",
            "metadata": {
                "colab": {
                    "base_uri": "https://localhost:8080/",
                    "height": 530
                },
                "id": "-CHaOnYBIz1G",
                "outputId": "a1164a87-c324-4c56-933c-ad1e150b4150"
            },
            "source": [
                "import matplotlib.pyplot as plt\n",
                "\n",
                "lam = 1\n",
                "n = 20000\n",
                "n_bins = 25\n",
                "uniform = np.random.random(n)\n",
                "exponential = -np.log(1 - uniform) / lam\n",
                "\n",
                "plt.hist(uniform, bins = n_bins, density = True)\n",
                "plt.show()\n",
                "print()\n",
                "\n",
                "xx = np.linspace(0, 10)\n",
                "yy = lam * np.exp(-lam * xx)\n",
                "plt.plot(xx, yy)\n",
                "plt.hist(exponential, bins = n_bins, density = True)\n",
                "plt.show()"
            ],
            "execution_count": 11,
            "outputs": [
                {
                    "output_type": "display_data",
                    "data": {
                        "image/png": "[encoded data removed]",
                        "text/plain": [
                            "<Figure size 432x288 with 1 Axes>"
                        ]
                    },
                    "metadata": {
                        "tags": [],
                        "needs_background": "light"
                    }
                },
                {
                    "output_type": "stream",
                    "text": [
                        "\n"
                    ],
                    "name": "stdout"
                },
                {
                    "output_type": "display_data",
                    "data": {
                        "image/png": "[encoded data removed]",
                        "text/plain": [
                            "<Figure size 432x288 with 1 Axes>"
                        ]
                    },
                    "metadata": {
                        "tags": [],
                        "needs_background": "light"
                    }
                }
            ]
        },
        {
            "cell_type": "code",
            "metadata": {
                "colab": {
                    "base_uri": "https://localhost:8080/"
                },
                "id": "J82bwaHpQXOP",
                "outputId": "1337676f-ff1c-4992-9294-40e04c6b99c1"
            },
            "source": [
                "F = lambda x: 1 - np.exp(-lam * x)\n",
                "\n",
                "N, bins = np.histogram(exponential, bins = n_bins)\n",
                "\n",
                "p = F(bins[1:]) - F(bins[:-1])\n",
                "expected = p * n\n",
                "S = (N - expected) ** 2 / expected\n",
                "chi = np.sum(S)\n",
                "print(chi)"
            ],
            "execution_count": 12,
            "outputs": [
                {
                    "output_type": "stream",
                    "text": [
                        "13.88387266377708\n"
                    ],
                    "name": "stdout"
                }
            ]
        },
        {
            "cell_type": "markdown",
            "metadata": {
                "id": "8fZlOOlkqAQ3"
            },
            "source": [
                "\t35.17246"
            ]
        },
        {
            "cell_type": "markdown",
            "metadata": {
                "id": "manlCNI_ms41"
            },
            "source": [
                "# Задание 4"
            ]
        },
        {
            "cell_type": "code",
            "metadata": {
                "colab": {
                    "base_uri": "https://localhost:8080/",
                    "height": 530
                },
                "id": "5u5zyl3Yrjvo",
                "outputId": "364ef8c0-883e-4c82-db05-e209f7994942"
            },
            "source": [
                "import matplotlib.pyplot as plt\n",
                "\n",
                "lam = 1\n",
                "n = 30000\n",
                "n_bins = 25\n",
                "uniform = np.random.random(n)\n",
                "exponential = -np.log(1 - uniform) / lam\n",
                "\n",
                "plt.hist(uniform, bins = n_bins, density = True)\n",
                "plt.show()\n",
                "print()\n",
                "\n",
                "uniform = (uniform - 1) * 2\n",
                "u = uniform[:n//2]\n",
                "v = uniform[n//2:]\n",
                "s = u ** 2 + v ** 2\n",
                "\n",
                "flags = np.logical_and(s != 0, s < 1)\n",
                "u, v, s = u[flags], v[flags], s[flags]\n",
                "\n",
                "u *= np.sqrt(-2 * np.log(s)/s)\n",
                "v *= np.sqrt(-2 * np.log(s)/s)\n",
                "\n",
                "normal = np.append(u, -v)\n",
                "\n",
                "xx = np.linspace(4, -4)\n",
                "yy = np.exp(-xx**2 / 2) / np.sqrt(2*np.pi)\n",
                "plt.plot(xx, yy)\n",
                "plt.hist(normal, bins = n_bins, density = True)\n",
                "plt.show()"
            ],
            "execution_count": 13,
            "outputs": [
                {
                    "output_type": "display_data",
                    "data": {
                        "image/png": "[encoded data removed]",
                        "text/plain": [
                            "<Figure size 432x288 with 1 Axes>"
                        ]
                    },
                    "metadata": {
                        "tags": [],
                        "needs_background": "light"
                    }
                },
                {
                    "output_type": "stream",
                    "text": [
                        "\n"
                    ],
                    "name": "stdout"
                },
                {
                    "output_type": "display_data",
                    "data": {
                        "image/png": "[encoded data removed]",
                        "text/plain": [
                            "<Figure size 432x288 with 1 Axes>"
                        ]
                    },
                    "metadata": {
                        "tags": [],
                        "needs_background": "light"
                    }
                }
            ]
        },
        {
            "cell_type": "code",
            "metadata": {
                "colab": {
                    "base_uri": "https://localhost:8080/"
                },
                "id": "KMb11pwEzlBn",
                "outputId": "c92dc19c-491e-490e-ff9a-f29d39013caf"
            },
            "source": [
                "from scipy.stats import norm\n",
                "\n",
                "F = lambda x: norm.cdf(x)\n",
                "\n",
                "n = normal.shape[0]\n",
                "N, bins = np.histogram(normal, bins = n_bins)\n",
                "\n",
                "p = F(bins[1:]) - F(bins[:-1])\n",
                "expected = p * n\n",
                "S = (N - expected) ** 2 / expected\n",
                "chi = np.sum(S)\n",
                "print(chi)"
            ],
            "execution_count": 14,
            "outputs": [
                {
                    "output_type": "stream",
                    "text": [
                        "29.76035023649402\n"
                    ],
                    "name": "stdout"
                }
            ]
        },
        {
            "cell_type": "markdown",
            "metadata": {
                "id": "333hB_Bf0yfg"
            },
            "source": [
                "\t35.17246"
            ]
        }
    ]
}