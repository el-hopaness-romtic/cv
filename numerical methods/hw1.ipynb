{
    "nbformat": 4,
    "nbformat_minor": 0,
    "metadata": {
        "colab": {
            "name": "hw1.ipynb",
            "provenance": []
        },
        "kernelspec": {
            "name": "python3",
            "display_name": "Python 3"
        }
    },
    "cells": [
        {
            "cell_type": "code",
            "metadata": {
                "id": "yLBm2LihcWM3"
            },
            "source": [
                "from math import floor, log\r\n",
                "import numpy as np\r\n",
                "import sympy\r\n",
                "from matplotlib import pyplot as plt"
            ],
            "execution_count": 1,
            "outputs": []
        },
        {
            "cell_type": "markdown",
            "metadata": {
                "id": "41WAUbRvx94h"
            },
            "source": [
                "# **Задание 1**"
            ]
        },
        {
            "cell_type": "code",
            "metadata": {
                "colab": {
                    "base_uri": "https://localhost:8080/",
                    "height": 135
                },
                "id": "cternHxN8JjZ",
                "outputId": "8548ace8-6fe9-4704-de83-a4015ccc32db"
            },
            "source": [
                "%%latex\r\n",
                "$\\displaystyle i)\r\n",
                "\\int_0^1 \\frac{x^n}{x+\\alpha}dx =\r\n",
                "\\int_0^1 \\frac{x^n + \\alpha x^{n-1} - \\alpha x^{n-1}}{x+\\alpha}dx =\r\n",
                "\\int_0^1 \\frac{x^{n-1}(x + \\alpha)}{x+\\alpha} -\r\n",
                "\\int_0^1 \\frac{\\alpha x^{n-1}}{x+\\alpha}dx = \\\\\r\n",
                "\\displaystyle = \\int_0^1 x^{n-1} - \\alpha \\int_0^1 \\frac{x^{n-1}}{x+\\alpha}dx =\r\n",
                "\\frac{1}{n} - \\alpha \\int_0^1 \\frac{x^{n-1}}{x+\\alpha}dx \\\\\r\n",
                "\\displaystyle I_n(\\alpha) = \\frac{1}{n} - \\alpha I_{n-1}(\\alpha)$"
            ],
            "execution_count": 2,
            "outputs": [
                {
                    "output_type": "display_data",
                    "data": {
                        "text/latex": "$\\displaystyle i)\n\\int_0^1 \\frac{x^n}{x+\\alpha}dx =\n\\int_0^1 \\frac{x^n + \\alpha x^{n-1} - \\alpha x^{n-1}}{x+\\alpha}dx =\n\\int_0^1 \\frac{x^{n-1}(x + \\alpha)}{x+\\alpha} -\n\\int_0^1 \\frac{\\alpha x^{n-1}}{x+\\alpha}dx = \\\\\n\\displaystyle = \\int_0^1 x^{n-1} - \\alpha \\int_0^1 \\frac{x^{n-1}}{x+\\alpha}dx =\n\\frac{1}{n} - \\alpha \\int_0^1 \\frac{x^{n-1}}{x+\\alpha}dx \\\\\n\\displaystyle I_n(\\alpha) = \\frac{1}{n} - \\alpha I_{n-1}(\\alpha)$",
                        "text/plain": [
                            "<IPython.core.display.Latex object>"
                        ]
                    },
                    "metadata": {
                        "tags": []
                    }
                }
            ]
        },
        {
            "cell_type": "code",
            "metadata": {
                "colab": {
                    "base_uri": "https://localhost:8080/",
                    "height": 63
                },
                "id": "LOOjjy1A8Mg5",
                "outputId": "18835fa4-7f0f-4749-a685-ddf5c07b5e34"
            },
            "source": [
                "%%latex\r\n",
                "$\\displaystyle ii)\r\n",
                "I_0(\\alpha)=\r\n",
                "\\int_0^1 \\frac{x^0}{x+\\alpha}dx = \r\n",
                "\\int_0^1 \\frac{1}{x+\\alpha}dx =  \r\n",
                "ln(x+\\alpha) \\bigg|_0^1 =\r\n",
                "ln(1+\\alpha) - ln(\\alpha)$"
            ],
            "execution_count": 3,
            "outputs": [
                {
                    "output_type": "display_data",
                    "data": {
                        "text/latex": "$\\displaystyle ii)\nI_0(\\alpha)=\n\\int_0^1 \\frac{x^0}{x+\\alpha}dx = \n\\int_0^1 \\frac{1}{x+\\alpha}dx =  \nln(x+\\alpha) \\bigg|_0^1 =\nln(1+\\alpha) - ln(\\alpha)$",
                        "text/plain": [
                            "<IPython.core.display.Latex object>"
                        ]
                    },
                    "metadata": {
                        "tags": []
                    }
                }
            ]
        },
        {
            "cell_type": "code",
            "metadata": {
                "id": "byYryxbJLwKb"
            },
            "source": [
                "def upwards_recursion(n, alpha):\r\n",
                "  if n == 0:\r\n",
                "    return log(1 + alpha) - log(alpha)\r\n",
                "  return 1/n - alpha * upwards_recursion(n - 1, alpha)"
            ],
            "execution_count": 4,
            "outputs": []
        },
        {
            "cell_type": "code",
            "metadata": {
                "colab": {
                    "base_uri": "https://localhost:8080/",
                    "height": 58
                },
                "id": "jM9dBkl68XJx",
                "outputId": "e64820cc-214b-4d0b-b893-85563a3b04b0"
            },
            "source": [
                "%%latex\r\n",
                "$\\displaystyle\r\n",
                "I_{n-1} = \\frac{1}{\\alpha} \\left( \\frac{1}{n} - I_n(\\alpha) \\right)$"
            ],
            "execution_count": 5,
            "outputs": [
                {
                    "output_type": "display_data",
                    "data": {
                        "text/latex": "$\\displaystyle\nI_{n-1} = \\frac{1}{\\alpha} \\left( \\frac{1}{n} - I_n(\\alpha) \\right)$",
                        "text/plain": [
                            "<IPython.core.display.Latex object>"
                        ]
                    },
                    "metadata": {
                        "tags": []
                    }
                }
            ]
        },
        {
            "cell_type": "code",
            "metadata": {
                "id": "oxN8azffbpb8"
            },
            "source": [
                "def downwards_recursion(n, alpha):\r\n",
                "  if n == 100:\r\n",
                "    return 0\r\n",
                "  return 1/alpha * (1/n - downwards_recursion(n + 1, alpha))"
            ],
            "execution_count": 6,
            "outputs": []
        },
        {
            "cell_type": "code",
            "metadata": {
                "id": "DVlEBDFClNkA"
            },
            "source": [
                "x = sympy.Symbol('x')"
            ],
            "execution_count": 7,
            "outputs": []
        },
        {
            "cell_type": "markdown",
            "metadata": {
                "id": "LT6eJQ--jzFH"
            },
            "source": [
                "### $\\displaystyle\r\n",
                "I_{25}(0.1)$"
            ]
        },
        {
            "cell_type": "code",
            "metadata": {
                "colab": {
                    "base_uri": "https://localhost:8080/"
                },
                "id": "dbnjSpoNgSDf",
                "outputId": "ca73ad7a-6ff5-48eb-bf59-fcb141cc4e8d"
            },
            "source": [
                "print(\"Результат рекурсией вверх: \\t{0}\\n\\\r\n",
                "Результат рекурсией вниз: \\t{1}\\n\\\r\n",
                "Точное значение: \\t\\t{2}\".format(\r\n",
                "    upwards_recursion(25, 0.1),\r\n",
                "    downwards_recursion(25, 0.1),\r\n",
                "    float(sympy.integrate(x**25 / (x + 0.1), (x, 0, 1)))\r\n",
                "    )\r\n",
                ")"
            ],
            "execution_count": 8,
            "outputs": [
                {
                    "output_type": "stream",
                    "text": [
                        "Результат рекурсией вверх: \t0.03622697090911682\n",
                        "Результат рекурсией вниз: \t9.174234068714559e+72\n",
                        "Точное значение: \t\t0.036226970909116835\n"
                    ],
                    "name": "stdout"
                }
            ]
        },
        {
            "cell_type": "markdown",
            "metadata": {
                "id": "pm6EyNA0lppI"
            },
            "source": [
                "### $\\displaystyle\r\n",
                "I_{25}(10)$"
            ]
        },
        {
            "cell_type": "code",
            "metadata": {
                "colab": {
                    "base_uri": "https://localhost:8080/"
                },
                "id": "E939bFHLlpUf",
                "outputId": "75eee3b5-b361-4933-ac2d-d5c44dd77d9b"
            },
            "source": [
                "print(\"Результат рекурсией вверх: \\t{0}\\n\\\r\n",
                "Результат рекурсией вниз: \\t{1}\\n\\\r\n",
                "Точное значение: \\t\\t{2}\".format(\r\n",
                "    upwards_recursion(25, 10),\r\n",
                "    downwards_recursion(25, 10),\r\n",
                "    float(sympy.integrate(x**25 / (x + 10), (x, 0, 1)))\r\n",
                "    )\r\n",
                ")"
            ],
            "execution_count": 9,
            "outputs": [
                {
                    "output_type": "stream",
                    "text": [
                        "Результат рекурсией вверх: \t916988169.5363449\n",
                        "Результат рекурсией вниз: \t0.003649164659031803\n",
                        "Точное значение: \t\t0.0035083534096819772\n"
                    ],
                    "name": "stdout"
                }
            ]
        },
        {
            "cell_type": "markdown",
            "metadata": {
                "id": "J5NcTcnE5vBk"
            },
            "source": [
                "В случае $\\alpha < 1$ ошибка в формуле рекурсии вверх почти не нарастает, так как она каждый шаг умножается на число меньше единицы. В случае $\\alpha > 1$ лучше использовать формулу рекурсии вниз, так как там каждый шаг интеграл умножается на число $\\frac{1}{\\alpha} < 1$ "
            ]
        },
        {
            "cell_type": "markdown",
            "metadata": {
                "id": "_AkUOlozx910"
            },
            "source": [
                "# **Задание 2**"
            ]
        },
        {
            "cell_type": "code",
            "metadata": {
                "colab": {
                    "base_uri": "https://localhost:8080/",
                    "height": 308
                },
                "id": "nY3iuTCm8-e_",
                "outputId": "3506eec6-2161-412b-edf7-e8d7887531bd"
            },
            "source": [
                "%%latex\r\n",
                "$\\displaystyle\r\n",
                "a_n = -a_{n-1} + 6 a_{n-2}\\\\\r\n",
                "\\lambda^n = -\\lambda^{n-1} + 6 \\lambda^{n-2}\\\\\r\n",
                "\\lambda^2 + \\lambda - 6 = 0\\\\\r\n",
                "D = 1^2 - 4 * 1 * (-6) = 25\\\\\r\n",
                "\\lambda_{1,2} = \\frac{-1 \\pm \\sqrt{25}}{2 * 1} = \\frac{-1 \\pm 5}{2} = 2, -3\\\\\r\n",
                "p_n = C_1 2^n + C_2 (-3)^n\\\\\r\n",
                "p_0 = 1 \\Rightarrow C_1 + C_2 = 1\\\\\r\n",
                "p_1 = 2 \\Rightarrow 2C_1 - 3C_2 = 2\\\\\r\n",
                "5C_1 - 3C_1 - 3C_2 = 2\\\\\r\n",
                "5C_1 - 3 = 2\\\\\r\n",
                "5C_1 = 5\\\\\r\n",
                "C_1 = 1, C_2 = 0\\\\\r\n",
                "p_n = 2^n\r\n",
                "$"
            ],
            "execution_count": 10,
            "outputs": [
                {
                    "output_type": "display_data",
                    "data": {
                        "text/latex": "$\\displaystyle\na_n = -a_{n-1} + 6 a_{n-2}\\\\\n\\lambda^n = -\\lambda^{n-1} + 6 \\lambda^{n-2}\\\\\n\\lambda^2 + \\lambda - 6 = 0\\\\\nD = 1^2 - 4 * 1 * (-6) = 25\\\\\n\\lambda_{1,2} = \\frac{-1 \\pm \\sqrt{25}}{2 * 1} = \\frac{-1 \\pm 5}{2} = 2, -3\\\\\np_n = C_1 2^n + C_2 (-3)^n\\\\\np_0 = 1 \\Rightarrow C_1 + C_2 = 1\\\\\np_1 = 2 \\Rightarrow 2C_1 - 3C_2 = 2\\\\\n5C_1 - 3C_1 - 3C_2 = 2\\\\\n5C_1 - 3 = 2\\\\\n5C_1 = 5\\\\\nC_1 = 1, C_2 = 0\\\\\np_n = 2^n\n$",
                        "text/plain": [
                            "<IPython.core.display.Latex object>"
                        ]
                    },
                    "metadata": {
                        "tags": []
                    }
                }
            ]
        },
        {
            "cell_type": "markdown",
            "metadata": {
                "id": "E7fhIR4enPt5"
            },
            "source": [
                "$\\displaystyle\r\n",
                "recur(2021) = 2^{2021}$\r\n"
            ]
        },
        {
            "cell_type": "code",
            "metadata": {
                "colab": {
                    "base_uri": "https://localhost:8080/",
                    "height": 143
                },
                "id": "_CTzO-HW9Hna",
                "outputId": "6260f904-23a6-4bbe-e26a-9a1ce506ff53"
            },
            "source": [
                "%%latex\r\n",
                "$\\displaystyle\r\n",
                "p_n = C_1 2^n + C_2 (-3)^n\\\\\r\n",
                "p_0 = 1 \\Rightarrow C_1 + C_2 = 1\\\\\r\n",
                "p_1 = 2 + \\epsilon \\Rightarrow 2C_1 - 3C_2 = 2  + \\epsilon\\\\\r\n",
                "5C_1 = 5 + \\epsilon\\\\\r\n",
                "C_1 = 1 + \\epsilon / 5, C_2 = -\\epsilon / 5\\\\\r\n",
                "p_n = (1 + \\epsilon / 5) 2^n - \\epsilon / 5 (-3)^n\r\n",
                "$"
            ],
            "execution_count": 11,
            "outputs": [
                {
                    "output_type": "display_data",
                    "data": {
                        "text/latex": "$\\displaystyle\np_n = C_1 2^n + C_2 (-3)^n\\\\\np_0 = 1 \\Rightarrow C_1 + C_2 = 1\\\\\np_1 = 2 + \\epsilon \\Rightarrow 2C_1 - 3C_2 = 2  + \\epsilon\\\\\n5C_1 = 5 + \\epsilon\\\\\nC_1 = 1 + \\epsilon / 5, C_2 = -\\epsilon / 5\\\\\np_n = (1 + \\epsilon / 5) 2^n - \\epsilon / 5 (-3)^n\n$",
                        "text/plain": [
                            "<IPython.core.display.Latex object>"
                        ]
                    },
                    "metadata": {
                        "tags": []
                    }
                }
            ]
        },
        {
            "cell_type": "markdown",
            "metadata": {
                "id": "0QynaRatu_Vi"
            },
            "source": [
                "$\\displaystyle\r\n",
                "recur(2021, a1=2+\\epsilon) = (1 + \\epsilon / 5) 2^{2021} + (\\epsilon / 5) 3^{2021}$\r\n"
            ]
        },
        {
            "cell_type": "markdown",
            "metadata": {
                "id": "WjFz3Mj78dzU"
            },
            "source": [
                "Малое изменение ко второму элементу рекурсии сильно влияет на её эволюцию: при нечётных n оно будет значительно больше чем предыдущий вариант с $p_1 = 2$, а при чётных достаточно больших n результат будет отрицательным"
            ]
        },
        {
            "cell_type": "markdown",
            "metadata": {
                "id": "PXu1vaanx9t3"
            },
            "source": [
                "# **Задание 3**"
            ]
        },
        {
            "cell_type": "code",
            "metadata": {
                "colab": {
                    "base_uri": "https://localhost:8080/",
                    "height": 216
                },
                "id": "6IVtPyLA5hyf",
                "outputId": "ea99d55e-54c1-4835-a71e-8a1d05f4b881"
            },
            "source": [
                "%%latex\r\n",
                "$\\begin{vmatrix}\r\n",
                "1 - \\lambda & 10 \\\\\r\n",
                "\\delta & 1 - \\lambda \\\\\r\n",
                "\\end{vmatrix}\r\n",
                "\r\n",
                "= (1 - \\lambda)^2 - 10\\delta = 0 \\\\\r\n",
                "(1 - \\lambda)^2 = 10\\delta \\\\\r\n",
                "1 - \\lambda = \\pm \\sqrt{10\\delta} \\\\\r\n",
                "\\lambda_{1, 2} = 1 \\mp \\sqrt{10\\delta} \\\\\r\n",
                "\\epsilon(\\delta) = 1 + \\sqrt{10\\delta} \\\\\r\n",
                "\\kappa(\\delta) = \\frac{d\\epsilon(\\delta)}{d\\delta} =\r\n",
                "\\frac{d(1 + \\sqrt{10\\delta})}{d\\delta} =\r\n",
                "\\frac{\\sqrt{10}}{2\\sqrt{\\delta}} \\\\\r\n",
                "\\kappa(10) = \\frac{1}{2} \\\\\r\n",
                "\\kappa(0.1) = 5\r\n",
                "$"
            ],
            "execution_count": 12,
            "outputs": [
                {
                    "output_type": "display_data",
                    "data": {
                        "text/latex": "$\\begin{vmatrix}\n1 - \\lambda & 10 \\\\\n\\delta & 1 - \\lambda \\\\\n\\end{vmatrix}\n\n= (1 - \\lambda)^2 - 10\\delta = 0 \\\\\n(1 - \\lambda)^2 = 10\\delta \\\\\n1 - \\lambda = \\pm \\sqrt{10\\delta} \\\\\n\\lambda_{1, 2} = 1 \\mp \\sqrt{10\\delta} \\\\\n\\epsilon(\\delta) = 1 + \\sqrt{10\\delta} \\\\\n\\kappa(\\delta) = \\frac{d\\epsilon(\\delta)}{d\\delta} =\n\\frac{d(1 + \\sqrt{10\\delta})}{d\\delta} =\n\\frac{\\sqrt{10}}{2\\sqrt{\\delta}} \\\\\n\\kappa(10) = \\frac{1}{2} \\\\\n\\kappa(0.1) = 5\n$",
                        "text/plain": [
                            "<IPython.core.display.Latex object>"
                        ]
                    },
                    "metadata": {
                        "tags": []
                    }
                }
            ]
        },
        {
            "cell_type": "markdown",
            "metadata": {
                "id": "psZ3OAQRu0t9"
            },
            "source": [
                "# **Задание 4**"
            ]
        },
        {
            "cell_type": "code",
            "metadata": {
                "id": "MulFFxYBq1h-"
            },
            "source": [
                "import math\r\n",
                "def round_to_n(x, n):\r\n",
                "  if x == 0:\r\n",
                "    return x\r\n",
                "  else:\r\n",
                "    return round (x , -int(math.floor(math.log10(abs(x)))) + (n - 1))"
            ],
            "execution_count": 13,
            "outputs": []
        },
        {
            "cell_type": "code",
            "metadata": {
                "colab": {
                    "base_uri": "https://localhost:8080/"
                },
                "id": "orpYtg-paw1a",
                "outputId": "859d00d6-c1f9-497f-c3e5-2c610491e1a5"
            },
            "source": [
                "print(\r\n",
                "    round_to_n(2.1862, 2),\r\n",
                "    round_to_n(47815.3, 3),\r\n",
                "    round_to_n(0.00000019500, 2),\r\n",
                "    round_to_n(0.000019500, 2),\r\n",
                "    sep='\\n'\r\n",
                ")"
            ],
            "execution_count": 14,
            "outputs": [
                {
                    "output_type": "stream",
                    "text": [
                        "2.2\n",
                        "47800.0\n",
                        "2e-07\n",
                        "1.9e-05\n"
                    ],
                    "name": "stdout"
                }
            ]
        },
        {
            "cell_type": "markdown",
            "metadata": {
                "id": "fw85Z9Oav0iA"
            },
            "source": [
                "$\\displaystyle \\sum_{i=1}^{3000}k^{-2}\\approx1.6446$"
            ]
        },
        {
            "cell_type": "code",
            "metadata": {
                "colab": {
                    "base_uri": "https://localhost:8080/"
                },
                "id": "FSkU-wukfUoL",
                "outputId": "f3e42e5b-cc0e-406a-ef09-3379c5c6b3f9"
            },
            "source": [
                "exact_answer = 0\r\n",
                "for k in range (3000, 0, -1):\r\n",
                "  exact_answer += 1 / k**2\r\n",
                "print(exact_answer)"
            ],
            "execution_count": 15,
            "outputs": [
                {
                    "output_type": "stream",
                    "text": [
                        "1.6446007890642758\n"
                    ],
                    "name": "stdout"
                }
            ]
        },
        {
            "cell_type": "code",
            "metadata": {
                "colab": {
                    "base_uri": "https://localhost:8080/"
                },
                "id": "x-uZP29rucC0",
                "outputId": "3ff2d684-c555-490a-cad2-84eab5422e37"
            },
            "source": [
                "sum = 0\r\n",
                "for k in range (1, 3001):\r\n",
                "  sum = round_to_n(sum + 1 / k**2, 4)\r\n",
                "print('{0}\\n{1:.5%}'.format(sum, abs(exact_answer - sum) / exact_answer))"
            ],
            "execution_count": 16,
            "outputs": [
                {
                    "output_type": "stream",
                    "text": [
                        "1.624\n",
                        "1.25263%\n"
                    ],
                    "name": "stdout"
                }
            ]
        },
        {
            "cell_type": "code",
            "metadata": {
                "colab": {
                    "base_uri": "https://localhost:8080/"
                },
                "id": "glC5oHZovLlC",
                "outputId": "c643cfb2-47ee-44e8-89bf-046a392ac406"
            },
            "source": [
                "sum = 0\r\n",
                "for k in range (3000, 0, -1):\r\n",
                "  sum = round_to_n(sum + 1 / k**2, 4)\r\n",
                "print('{0}\\n{1:.5%}'.format(sum, abs(exact_answer - sum) / exact_answer))"
            ],
            "execution_count": 17,
            "outputs": [
                {
                    "output_type": "stream",
                    "text": [
                        "1.645\n",
                        "0.02427%\n"
                    ],
                    "name": "stdout"
                }
            ]
        },
        {
            "cell_type": "markdown",
            "metadata": {
                "id": "lanRDdW996em"
            },
            "source": [
                "Порядок слагаемых повлиял на точность счёта, так как в первом случае наблюдается потеря точности при суммировании малых чисел:"
            ]
        },
        {
            "cell_type": "code",
            "metadata": {
                "colab": {
                    "base_uri": "https://localhost:8080/"
                },
                "id": "Cn38tuKZ-gaT",
                "outputId": "c0c8f821-b1d8-49d8-9305-5d5f3ac945a9"
            },
            "source": [
                "round_to_n(1.0000 + 0.00005, 4)"
            ],
            "execution_count": 18,
            "outputs": [
                {
                    "output_type": "execute_result",
                    "data": {
                        "text/plain": [
                            "1.0"
                        ]
                    },
                    "metadata": {
                        "tags": []
                    },
                    "execution_count": 18
                }
            ]
        },
        {
            "cell_type": "markdown",
            "metadata": {
                "id": "yv7z2Kzmx6sH"
            },
            "source": [
                "# **Задание 5**"
            ]
        },
        {
            "cell_type": "code",
            "metadata": {
                "colab": {
                    "base_uri": "https://localhost:8080/",
                    "height": 161
                },
                "id": "9mPRADCs5ZdB",
                "outputId": "371ee635-9305-4b60-fafa-6a9a962cc29c"
            },
            "source": [
                "%%latex\r\n",
                "$\\displaystyle\r\n",
                "\\text{(a) }\r\n",
                "F = \\overline{F} \\pm \\Delta F =\r\n",
                "\\frac{G\\overline{M_1}\\overline{M_2}}{\\overline{r}^2} \\pm \\sigma_F\\\\\r\n",
                "\\sigma_F = \\sqrt{\r\n",
                "  \\left(\\frac{\\partial F}{\\partial M_1}\\right)^2 \\sigma_{M_1}^2 +\r\n",
                "  \\left(\\frac{\\partial F}{\\partial M_2}\\right)^2 \\sigma_{M_2}^2 +\r\n",
                "  \\left(\\frac{\\partial F}{\\partial r}\\right)^2 \\sigma_{r}^2\r\n",
                "} =\r\n",
                "\\sqrt{\r\n",
                "  \\left(\\frac{G\\overline{M_2}}{\\overline{r}^2}\\right)^2 \\sigma_{M_1}^2 +\r\n",
                "  \\left(\\frac{G\\overline{M_1}}{\\overline{r}^2}\\right)^2 \\sigma_{M_2}^2 +\r\n",
                "  \\left(\\frac{-2G\\overline{M_1}\\overline{M_2}}{\\overline{r}^3}\\right)^2 \\sigma_{r}^2\r\n",
                "} =\\\\ \r\n",
                "= \\frac{G}{\\overline{r}^2} \\sqrt{\r\n",
                "  \\overline{M_2}^2 \\sigma_{M_1}^2 +\r\n",
                "  \\overline{M_1}^2 \\sigma_{M_2}^2 +\r\n",
                "  4\\left(\\frac{\\overline{M_1}\\overline{M_2}}{\\overline{r}}\\right)^2 \\sigma_{r}^2\r\n",
                "}\r\n",
                "$"
            ],
            "execution_count": 19,
            "outputs": [
                {
                    "output_type": "display_data",
                    "data": {
                        "text/latex": "$\\displaystyle\n\\text{(a) }\nF = \\overline{F} \\pm \\Delta F =\n\\frac{G\\overline{M_1}\\overline{M_2}}{\\overline{r}^2} \\pm \\sigma_F\\\\\n\\sigma_F = \\sqrt{\n  \\left(\\frac{\\partial F}{\\partial M_1}\\right)^2 \\sigma_{M_1}^2 +\n  \\left(\\frac{\\partial F}{\\partial M_2}\\right)^2 \\sigma_{M_2}^2 +\n  \\left(\\frac{\\partial F}{\\partial r}\\right)^2 \\sigma_{r}^2\n} =\n\\sqrt{\n  \\left(\\frac{G\\overline{M_2}}{\\overline{r}^2}\\right)^2 \\sigma_{M_1}^2 +\n  \\left(\\frac{G\\overline{M_1}}{\\overline{r}^2}\\right)^2 \\sigma_{M_2}^2 +\n  \\left(\\frac{-2G\\overline{M_1}\\overline{M_2}}{\\overline{r}^3}\\right)^2 \\sigma_{r}^2\n} =\\\\ \n= \\frac{G}{\\overline{r}^2} \\sqrt{\n  \\overline{M_2}^2 \\sigma_{M_1}^2 +\n  \\overline{M_1}^2 \\sigma_{M_2}^2 +\n  4\\left(\\frac{\\overline{M_1}\\overline{M_2}}{\\overline{r}}\\right)^2 \\sigma_{r}^2\n}\n$",
                        "text/plain": [
                            "<IPython.core.display.Latex object>"
                        ]
                    },
                    "metadata": {
                        "tags": []
                    }
                }
            ]
        },
        {
            "cell_type": "code",
            "metadata": {
                "id": "g_a3JAFkY7d-",
                "colab": {
                    "base_uri": "https://localhost:8080/"
                },
                "outputId": "9f0fe9c2-e3a6-4e05-cd43-922fd817abc8"
            },
            "source": [
                "G = 6.67430e-11\r\n",
                "r, s_r = 3.2, 0.01\r\n",
                "m1, s_m1 = 40e4, 0.05e4\r\n",
                "m2, s_m2 = 30e4, 0.1e4\r\n",
                "\r\n",
                "F = G * m1 * m2 / r**2\r\n",
                "s_F = G / r**2 * ((m2 * s_m1)**2 + (m1 * s_m2)**2 + 4 * (m1 * m2 * s_r / r)**2)**.5 \r\n",
                "print(\"F = {0}\\ns_F = {1}\".format(F, s_F))"
            ],
            "execution_count": 20,
            "outputs": [
                {
                    "output_type": "stream",
                    "text": [
                        "F = 0.7821445312499998\n",
                        "s_F = 0.00562579500853725\n"
                    ],
                    "name": "stdout"
                }
            ]
        },
        {
            "cell_type": "markdown",
            "metadata": {
                "id": "K-dvmPLs66Q8"
            },
            "source": [
                "$\\displaystyle \\text{(b)}$"
            ]
        },
        {
            "cell_type": "code",
            "metadata": {
                "id": "5cmAP-LKFWm0"
            },
            "source": [
                "random_data =  G * np.random.normal(loc=m1, scale=s_m1, size=100000) * \\\r\n",
                "np.random.normal(loc=m2, scale=s_m2, size=100000) / \\\r\n",
                "np.random.normal(loc=r, scale=s_r, size=100000)**2"
            ],
            "execution_count": 21,
            "outputs": []
        },
        {
            "cell_type": "markdown",
            "metadata": {
                "id": "1BQWHRzM8-13"
            },
            "source": [
                "$\\displaystyle \\text{(c)}$"
            ]
        },
        {
            "cell_type": "code",
            "metadata": {
                "colab": {
                    "base_uri": "https://localhost:8080/",
                    "height": 592
                },
                "id": "C-htNPFd9Myy",
                "outputId": "a8aee5ea-e6fc-4dc7-e375-3f7601e2eb25"
            },
            "source": [
                "plt.figure(figsize=(20, 10))\r\n",
                "x = np.linspace(F - 4 * s_F, F + 4 * s_F, 100)\r\n",
                "\r\n",
                "plt.plot(x, 1/(s_F * (2 * np.pi)**.5) * np.exp(-(x - F)**2 / (2 * s_F**2)))\r\n",
                "plt.hist(random_data, bins=50, density=True)\r\n",
                "\r\n",
                "plt.show()"
            ],
            "execution_count": 22,
            "outputs": [
                {
                    "output_type": "display_data",
                    "data": {
                        "image/png": "[encoded data removed]",
                        "text/plain": [
                            "<Figure size 1440x720 with 1 Axes>"
                        ]
                    },
                    "metadata": {
                        "tags": [],
                        "needs_background": "light"
                    }
                }
            ]
        },
        {
            "cell_type": "markdown",
            "metadata": {
                "id": "OI4xOJe5MXMJ"
            },
            "source": [
                "$\\displaystyle \\text{(d)}$"
            ]
        },
        {
            "cell_type": "code",
            "metadata": {
                "colab": {
                    "base_uri": "https://localhost:8080/",
                    "height": 626
                },
                "id": "NXD0690DMhHC",
                "outputId": "ad97aff0-b7c0-4c23-8dcd-6edacf223649"
            },
            "source": [
                "G = 6.67430e-11\r\n",
                "s_r = 1\r\n",
                "s_m1 = 2e4\r\n",
                "s_m2 = 10e4\r\n",
                "\r\n",
                "F = G * m1 * m2 / r**2\r\n",
                "s_F = G / r**2 * ((m2 * s_m1)**2 + (m1 * s_m2)**2 + 4 * (m1 * m2 * s_r / r)**2)**.5 \r\n",
                "print(\"F = {0}\\ns_F = {1}\".format(F, s_F))\r\n",
                "\r\n",
                "################################################################################\r\n",
                "\r\n",
                "random_data = G * np.random.normal(loc=m1, scale=s_m1, size=100000) * \\\r\n",
                "np.random.normal(loc=m2, scale=s_m2, size=100000) / \\\r\n",
                "np.random.normal(loc=r, scale=s_r, size=100000)**2\r\n",
                "random_data = random_data[random_data<20]\r\n",
                "random_data = random_data[-10<random_data]\r\n",
                "\r\n",
                "################################################################################\r\n",
                "\r\n",
                "plt.figure(figsize=(20, 10))\r\n",
                "x = np.linspace(F - 4 * s_F, F + 4 * s_F, 100)\r\n",
                "\r\n",
                "plt.plot(x, 1/(s_F * (2 * np.pi)**.5) * np.exp(-(x - F)**2 / (2 * s_F**2)))\r\n",
                "plt.hist(random_data, bins=200, density=True)\r\n",
                "\r\n",
                "plt.show()"
            ],
            "execution_count": 23,
            "outputs": [
                {
                    "output_type": "stream",
                    "text": [
                        "F = 0.7821445312499998\n",
                        "s_F = 0.5553975829452449\n"
                    ],
                    "name": "stdout"
                },
                {
                    "output_type": "display_data",
                    "data": {
                        "image/png": "[encoded data removed]",
                        "text/plain": [
                            "<Figure size 1440x720 with 1 Axes>"
                        ]
                    },
                    "metadata": {
                        "tags": [],
                        "needs_background": "light"
                    }
                }
            ]
        },
        {
            "cell_type": "code",
            "metadata": {
                "id": "PSPCr2bFaE18"
            },
            "source": [
                ""
            ],
            "execution_count": 23,
            "outputs": []
        }
    ]
}