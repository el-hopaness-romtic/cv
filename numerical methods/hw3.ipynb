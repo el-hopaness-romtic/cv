{
    "nbformat": 4,
    "nbformat_minor": 0,
    "metadata": {
        "kernelspec": {
            "display_name": "Python 3",
            "language": "python",
            "name": "python3"
        },
        "language_info": {
            "codemirror_mode": {
                "name": "ipython",
                "version": 3
            },
            "file_extension": ".py",
            "mimetype": "text/x-python",
            "name": "python",
            "nbconvert_exporter": "python",
            "pygments_lexer": "ipython3",
            "version": "3.7.4"
        },
        "colab": {
            "name": "hw3.ipynb",
            "provenance": []
        }
    },
    "cells": [
        {
            "cell_type": "code",
            "metadata": {
                "id": "ZGHCueBguss-"
            },
            "source": [
                "import numpy as np\n",
                "import matplotlib.pyplot as plt"
            ],
            "execution_count": 22,
            "outputs": []
        },
        {
            "cell_type": "markdown",
            "metadata": {
                "id": "SVt06_2GustA"
            },
            "source": [
                "# 3"
            ]
        },
        {
            "cell_type": "code",
            "metadata": {
                "colab": {
                    "base_uri": "https://localhost:8080/",
                    "height": 244
                },
                "id": "G1YVFFzlustA",
                "outputId": "af5bd4a3-ab37-4d60-f2ce-3e10d042980c"
            },
            "source": [
                "a = np.zeros((15 , 28))\n",
                "a[2:-2, 1] = 1; a[2, 2:6] = 1\n",
                "a[2:7, 6] = 1; a[7:-2, 7] = 1\n",
                "a[7, 2:7] = 1; a[-3, 2:7] = 1\n",
                "a[2:-2, 10] = 1; a[2:-2, 14] = 1\n",
                "a[2:-2, 18] = 1; a[-3, 10:19] = 1\n",
                "\n",
                "a[2:-2, 26] = 1\n",
                "a[2, 21:26] = 1\n",
                "a[7, 21:26] = 1\n",
                "a[-3, 21:26] = 1\n",
                "\n",
                "plt.imshow(a)"
            ],
            "execution_count": 23,
            "outputs": [
                {
                    "output_type": "execute_result",
                    "data": {
                        "text/plain": [
                            "<matplotlib.image.AxesImage at 0x7f8fa3fa8dd8>"
                        ]
                    },
                    "metadata": {
                        "tags": []
                    },
                    "execution_count": 23
                },
                {
                    "output_type": "display_data",
                    "data": {
                        "image/png": "[encoded data removed]",
                        "text/plain": [
                            "<Figure size 432x288 with 1 Axes>"
                        ]
                    },
                    "metadata": {
                        "tags": [],
                        "needs_background": "light"
                    }
                }
            ]
        },
        {
            "cell_type": "code",
            "metadata": {
                "colab": {
                    "base_uri": "https://localhost:8080/",
                    "height": 244
                },
                "id": "cN8lONdqustB",
                "outputId": "45544aa4-fa63-4c56-8055-75d469400fed"
            },
            "source": [
                "u, s, vh = np.linalg.svd(a)\r\n",
                "\r\n",
                "temp = np.zeros((15, 28), dtype=float)\r\n",
                "temp[:15, :15] = np.diag(s)\r\n",
                "s = temp\r\n",
                "\r\n",
                "plt.imshow(u @ s @ vh)\r\n",
                "np.linalg.matrix_rank(a)"
            ],
            "execution_count": 24,
            "outputs": [
                {
                    "output_type": "execute_result",
                    "data": {
                        "text/plain": [
                            "5"
                        ]
                    },
                    "metadata": {
                        "tags": []
                    },
                    "execution_count": 24
                },
                {
                    "output_type": "display_data",
                    "data": {
                        "image/png": "[encoded data removed]",
                        "text/plain": [
                            "<Figure size 432x288 with 1 Axes>"
                        ]
                    },
                    "metadata": {
                        "tags": [],
                        "needs_background": "light"
                    }
                }
            ]
        },
        {
            "cell_type": "code",
            "metadata": {
                "colab": {
                    "base_uri": "https://localhost:8080/",
                    "height": 1000
                },
                "id": "sca2eAhZwpfk",
                "outputId": "6539570e-bd82-4dac-ce0c-d27c1d5d2c90"
            },
            "source": [
                "for i in range(1, 6):\r\n",
                "  print(\"\\n\\nrank: {}\".format(i))\r\n",
                "  plt.imshow(u[:, :i] @ s[:i, :i] @ vh[:i, :])\r\n",
                "  plt.show()"
            ],
            "execution_count": 25,
            "outputs": [
                {
                    "output_type": "stream",
                    "text": [
                        "\n",
                        "\n",
                        "rank: 1\n"
                    ],
                    "name": "stdout"
                },
                {
                    "output_type": "display_data",
                    "data": {
                        "image/png": "[encoded data removed]",
                        "text/plain": [
                            "<Figure size 432x288 with 1 Axes>"
                        ]
                    },
                    "metadata": {
                        "tags": [],
                        "needs_background": "light"
                    }
                },
                {
                    "output_type": "stream",
                    "text": [
                        "\n",
                        "\n",
                        "rank: 2\n"
                    ],
                    "name": "stdout"
                },
                {
                    "output_type": "display_data",
                    "data": {
                        "image/png": "[encoded data removed]",
                        "text/plain": [
                            "<Figure size 432x288 with 1 Axes>"
                        ]
                    },
                    "metadata": {
                        "tags": [],
                        "needs_background": "light"
                    }
                },
                {
                    "output_type": "stream",
                    "text": [
                        "\n",
                        "\n",
                        "rank: 3\n"
                    ],
                    "name": "stdout"
                },
                {
                    "output_type": "display_data",
                    "data": {
                        "image/png": "[encoded data removed]",
                        "text/plain": [
                            "<Figure size 432x288 with 1 Axes>"
                        ]
                    },
                    "metadata": {
                        "tags": [],
                        "needs_background": "light"
                    }
                },
                {
                    "output_type": "stream",
                    "text": [
                        "\n",
                        "\n",
                        "rank: 4\n"
                    ],
                    "name": "stdout"
                },
                {
                    "output_type": "display_data",
                    "data": {
                        "image/png": "[encoded data removed]",
                        "text/plain": [
                            "<Figure size 432x288 with 1 Axes>"
                        ]
                    },
                    "metadata": {
                        "tags": [],
                        "needs_background": "light"
                    }
                },
                {
                    "output_type": "stream",
                    "text": [
                        "\n",
                        "\n",
                        "rank: 5\n"
                    ],
                    "name": "stdout"
                },
                {
                    "output_type": "display_data",
                    "data": {
                        "image/png": "[encoded data removed]",
                        "text/plain": [
                            "<Figure size 432x288 with 1 Axes>"
                        ]
                    },
                    "metadata": {
                        "tags": [],
                        "needs_background": "light"
                    }
                }
            ]
        },
        {
            "cell_type": "markdown",
            "metadata": {
                "id": "8eIOWxTKBH7a"
            },
            "source": [
                "# 4"
            ]
        },
        {
            "cell_type": "code",
            "metadata": {
                "colab": {
                    "base_uri": "https://localhost:8080/"
                },
                "id": "pWznSInvBHhM",
                "outputId": "d5ad8f7e-0ee8-410e-d7c8-9aacc8b5c570"
            },
            "source": [
                "A = np.ones((2, 10))\r\n",
                "A[0] = (2 * np.array(range(10, 0, -1)) - 1)/2\r\n",
                "A"
            ],
            "execution_count": 26,
            "outputs": [
                {
                    "output_type": "execute_result",
                    "data": {
                        "text/plain": [
                            "array([[9.5, 8.5, 7.5, 6.5, 5.5, 4.5, 3.5, 2.5, 1.5, 0.5],\n",
                            "       [1. , 1. , 1. , 1. , 1. , 1. , 1. , 1. , 1. , 1. ]])"
                        ]
                    },
                    "metadata": {
                        "tags": []
                    },
                    "execution_count": 26
                }
            ]
        },
        {
            "cell_type": "code",
            "metadata": {
                "colab": {
                    "base_uri": "https://localhost:8080/"
                },
                "id": "RoMiDzi6GQyf",
                "outputId": "daae4841-6a5f-403b-f76f-d5a661f9f50b"
            },
            "source": [
                "a=np.array([1,0])\r\n",
                "u, s, vh = np.linalg.svd(A)\r\n",
                "\r\n",
                "temp = np.zeros((10, 2))\r\n",
                "temp[:2, :2] = np.diag(1/s)\r\n",
                "inv_s = temp\r\n",
                "\r\n",
                "f = vh.T @ inv_s @ u.T @ a\r\n",
                "for ind, el in enumerate(f):\r\n",
                "  print(\"f{} = {:.5f}\".format(ind+1, el))"
            ],
            "execution_count": 27,
            "outputs": [
                {
                    "output_type": "stream",
                    "text": [
                        "f1 = 0.05455\n",
                        "f2 = 0.04242\n",
                        "f3 = 0.03030\n",
                        "f4 = 0.01818\n",
                        "f5 = 0.00606\n",
                        "f6 = -0.00606\n",
                        "f7 = -0.01818\n",
                        "f8 = -0.03030\n",
                        "f9 = -0.04242\n",
                        "f10 = -0.05455\n"
                    ],
                    "name": "stdout"
                }
            ]
        },
        {
            "cell_type": "code",
            "metadata": {
                "colab": {
                    "base_uri": "https://localhost:8080/"
                },
                "id": "_rBOofqGJKFP",
                "outputId": "5032273a-25dc-4a3e-cc5f-a6bb48746fea"
            },
            "source": [
                "A @ f"
            ],
            "execution_count": 28,
            "outputs": [
                {
                    "output_type": "execute_result",
                    "data": {
                        "text/plain": [
                            "array([1.00000000e+00, 1.38777878e-17])"
                        ]
                    },
                    "metadata": {
                        "tags": []
                    },
                    "execution_count": 28
                }
            ]
        },
        {
            "cell_type": "markdown",
            "metadata": {
                "id": "8x3BHv0pustF"
            },
            "source": [
                "# 5"
            ]
        },
        {
            "cell_type": "code",
            "metadata": {
                "colab": {
                    "base_uri": "https://localhost:8080/"
                },
                "id": "8BkPq13OustF",
                "outputId": "e3ff5978-1560-41e5-d11b-b0b9affb200a"
            },
            "source": [
                "C = np.array([[1, 0.9, 0.7], [0.9, 1, 0.4], [0.7, 0.4, 1]])\n",
                "C"
            ],
            "execution_count": 29,
            "outputs": [
                {
                    "output_type": "execute_result",
                    "data": {
                        "text/plain": [
                            "array([[1. , 0.9, 0.7],\n",
                            "       [0.9, 1. , 0.4],\n",
                            "       [0.7, 0.4, 1. ]])"
                        ]
                    },
                    "metadata": {
                        "tags": []
                    },
                    "execution_count": 29
                }
            ]
        },
        {
            "cell_type": "code",
            "metadata": {
                "colab": {
                    "base_uri": "https://localhost:8080/"
                },
                "id": "HdHJtgvwustF",
                "outputId": "a3a7fc5e-5cc9-4e25-850f-a5c8af56451b"
            },
            "source": [
                "C_hyp = C.copy()\n",
                "C_hyp[2, 1] = C_hyp[1, 2] = 0.3\n",
                "C_hyp"
            ],
            "execution_count": 30,
            "outputs": [
                {
                    "output_type": "execute_result",
                    "data": {
                        "text/plain": [
                            "array([[1. , 0.9, 0.7],\n",
                            "       [0.9, 1. , 0.3],\n",
                            "       [0.7, 0.3, 1. ]])"
                        ]
                    },
                    "metadata": {
                        "tags": []
                    },
                    "execution_count": 30
                }
            ]
        },
        {
            "cell_type": "code",
            "metadata": {
                "id": "bT51hD3YustG"
            },
            "source": [
                "l, s = np.linalg.eig(C)\r\n",
                "l_hyp, s_hyp = np.linalg.eig(C_hyp)"
            ],
            "execution_count": 52,
            "outputs": []
        },
        {
            "cell_type": "code",
            "metadata": {
                "colab": {
                    "base_uri": "https://localhost:8080/"
                },
                "id": "RLzl9trSustG",
                "outputId": "f1b428a7-853a-4102-9faa-6e29b8891180"
            },
            "source": [
                "print(l, l_hyp)"
            ],
            "execution_count": 53,
            "outputs": [
                {
                    "output_type": "stream",
                    "text": [
                        "[2.35363603 0.03034736 0.6160166 ] [ 2.29672779 -0.00735244  0.71062465]\n"
                    ],
                    "name": "stdout"
                }
            ]
        },
        {
            "cell_type": "code",
            "metadata": {
                "id": "6UcL-Ap7LUVB"
            },
            "source": [
                "l_hyp[l_hyp<0] = 0"
            ],
            "execution_count": 54,
            "outputs": []
        },
        {
            "cell_type": "code",
            "metadata": {
                "id": "4O8LWk9jLaM5"
            },
            "source": [
                "B = np.zeros_like(C)\r\n",
                "for i in range(B.shape[0]):\r\n",
                "  B[:, i] = l_hyp[i] * s_hyp[i]\r\n",
                "\r\n",
                "for i in range(B.shape[0]):\r\n",
                "  B[i] /= np.linalg.norm(B[i])"
            ],
            "execution_count": 58,
            "outputs": []
        },
        {
            "cell_type": "code",
            "metadata": {
                "colab": {
                    "base_uri": "https://localhost:8080/"
                },
                "id": "uPa5ENNhustH",
                "outputId": "c67fdc4c-4389-4617-bef3-5fee1955d26c"
            },
            "source": [
                "C_new = B @ B.T\n",
                "print(C_new)"
            ],
            "execution_count": 59,
            "outputs": [
                {
                    "output_type": "stream",
                    "text": [
                        "[[ 1.          0.93245109 -0.06642451]\n",
                        " [ 0.93245109  1.         -0.4224359 ]\n",
                        " [-0.06642451 -0.4224359   1.        ]]\n"
                    ],
                    "name": "stdout"
                },
                {
                    "output_type": "execute_result",
                    "data": {
                        "text/plain": [
                            "array([ 2.04984483e+00, -1.04083409e-17,  9.50155167e-01])"
                        ]
                    },
                    "metadata": {
                        "tags": []
                    },
                    "execution_count": 59
                }
            ]
        },
        {
            "cell_type": "code",
            "metadata": {
                "colab": {
                    "base_uri": "https://localhost:8080/"
                },
                "id": "TZtSs2jwNB3m",
                "outputId": "2c6f56ed-aa3e-4974-c3d6-46afe6183810"
            },
            "source": [
                "print(\r\n",
                "    np.linalg.det(C_new[1:, 1:]),\r\n",
                "    np.linalg.det(C_new[:2, :2]),\r\n",
                "    np.linalg.det(np.array([[1., -0.06642451],\r\n",
                "                            [-0.06642451, 1.]])),\r\n",
                "    np.linalg.det(C_new)\r\n",
                ")"
            ],
            "execution_count": 67,
            "outputs": [
                {
                    "output_type": "stream",
                    "text": [
                        "0.8215479143820372 0.13053496161063505 0.99558778447126 8.004669916610233e-17\n"
                    ],
                    "name": "stdout"
                }
            ]
        }
    ]
}