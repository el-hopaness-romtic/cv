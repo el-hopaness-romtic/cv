{
    "nbformat": 4,
    "nbformat_minor": 0,
    "metadata": {
        "colab": {
            "name": "hw4.ipynb",
            "provenance": []
        },
        "kernelspec": {
            "name": "python3",
            "display_name": "Python 3"
        }
    },
    "cells": [
        {
            "cell_type": "code",
            "metadata": {
                "id": "QHNCao8HvPVp"
            },
            "source": [
                "import numpy as np\r\n",
                "import matplotlib.pyplot as plt"
            ],
            "execution_count": 1,
            "outputs": []
        },
        {
            "cell_type": "markdown",
            "metadata": {
                "id": "IJmbnCpWvCtp"
            },
            "source": [
                "# Задание 1"
            ]
        },
        {
            "cell_type": "code",
            "metadata": {
                "id": "PZ39bpKtqSDb"
            },
            "source": [
                "n = 1000\r\n",
                "a = np.random.normal(0, 1, (n, n))\r\n",
                "A = a + a.T"
            ],
            "execution_count": 2,
            "outputs": []
        },
        {
            "cell_type": "code",
            "metadata": {
                "colab": {
                    "base_uri": "https://localhost:8080/",
                    "height": 265
                },
                "id": "91TPBfm3x_mC",
                "outputId": "59f607af-ca31-4f92-d194-f1e280ac490b"
            },
            "source": [
                "plt.hist(np.linalg.eigvalsh(A),\r\n",
                "         bins=range(-95, 100, 5))\r\n",
                "plt.xticks(range(-90, 105, 30))\r\n",
                "\r\n",
                "plt.show()"
            ],
            "execution_count": 3,
            "outputs": [
                {
                    "output_type": "display_data",
                    "data": {
                        "image/png": "[encoded data removed]",
                        "text/plain": [
                            "<Figure size 432x288 with 1 Axes>"
                        ]
                    },
                    "metadata": {
                        "tags": [],
                        "needs_background": "light"
                    }
                }
            ]
        },
        {
            "cell_type": "markdown",
            "metadata": {
                "id": "zs7_byPt1BnM"
            },
            "source": [
                "# Задание 2"
            ]
        },
        {
            "cell_type": "code",
            "metadata": {
                "id": "nQfY1X7d2ler"
            },
            "source": [
                "from scipy.linalg import hessenberg\r\n",
                "np.set_printoptions(suppress=True)"
            ],
            "execution_count": 49,
            "outputs": []
        },
        {
            "cell_type": "code",
            "metadata": {
                "id": "hsicGw6l1ER_"
            },
            "source": [
                "n = 10\r\n",
                "a = np.random.normal(0, 1, (n, n))\r\n",
                "A = a @ a.T"
            ],
            "execution_count": 50,
            "outputs": []
        },
        {
            "cell_type": "code",
            "metadata": {
                "colab": {
                    "base_uri": "https://localhost:8080/"
                },
                "id": "POUHjRPS1zqJ",
                "outputId": "dd2aa084-f7a5-4c8d-8515-2ef0668641e5"
            },
            "source": [
                "min_lambda = np.linalg.eigvalsh(A)[0]\r\n",
                "np.linalg.eigvalsh(A)"
            ],
            "execution_count": 51,
            "outputs": [
                {
                    "output_type": "execute_result",
                    "data": {
                        "text/plain": [
                            "array([ 0.19387755,  0.42925423,  1.62790094,  5.97811097,  8.2823807 ,\n",
                            "       10.65365922, 12.35745012, 19.39265514, 33.13477317, 45.00593544])"
                        ]
                    },
                    "metadata": {
                        "tags": []
                    },
                    "execution_count": 51
                }
            ]
        },
        {
            "cell_type": "code",
            "metadata": {
                "colab": {
                    "base_uri": "https://localhost:8080/"
                },
                "id": "jfgAHrw90vwn",
                "outputId": "18cca650-80bd-412f-f890-8d33a0b47d58"
            },
            "source": [
                "H = hessenberg(A)\r\n",
                "while not (np.allclose(np.diagonal(H, 1), 0) and np.allclose(np.diagonal(H, -1), 0)):\r\n",
                "  q, r = np.linalg.qr(H)\r\n",
                "  H = r @ q\r\n",
                "np.diag(H)[::-1]"
            ],
            "execution_count": 52,
            "outputs": [
                {
                    "output_type": "execute_result",
                    "data": {
                        "text/plain": [
                            "array([ 0.19387755,  0.42925423,  1.62790094,  5.97811097,  8.2823807 ,\n",
                            "       10.65365922, 12.35745012, 19.39265514, 33.13477317, 45.00593544])"
                        ]
                    },
                    "metadata": {
                        "tags": []
                    },
                    "execution_count": 52
                }
            ]
        },
        {
            "cell_type": "code",
            "metadata": {
                "colab": {
                    "base_uri": "https://localhost:8080/"
                },
                "id": "d1yqx-PS1_Jm",
                "outputId": "07844985-164e-4c63-fe7e-2e3f96a824fa"
            },
            "source": [
                "H = hessenberg(A)\r\n",
                "for i in range(1, 100):\r\n",
                "  q, r = np.linalg.qr(H)\r\n",
                "  H = r @ q\r\n",
                "  if np.abs(min_lambda - H[-1,-1])/min_lambda < 0.01:\r\n",
                "    break\r\n",
                "\r\n",
                "print(H)\r\n",
                "print('\\nКоличество итераций:', i)"
            ],
            "execution_count": 53,
            "outputs": [
                {
                    "output_type": "stream",
                    "text": [
                        "[[39.87660365 -9.7892767  -0.          0.         -0.          0.\n",
                        "  -0.          0.          0.         -0.        ]\n",
                        " [-9.7892767  23.0037511  -7.5181602  -0.          0.         -0.\n",
                        "  -0.          0.          0.         -0.        ]\n",
                        " [ 0.         -7.5181602  24.94735767  8.65395664 -0.          0.\n",
                        "  -0.         -0.         -0.          0.        ]\n",
                        " [ 0.          0.          8.65395664 20.15180515  2.30197599 -0.\n",
                        "   0.         -0.         -0.          0.        ]\n",
                        " [ 0.          0.          0.          2.30197599  7.89848846  4.14075848\n",
                        "   0.         -0.          0.         -0.        ]\n",
                        " [ 0.          0.          0.          0.          4.14075848  5.6203662\n",
                        "  -2.81683758 -0.          0.          0.        ]\n",
                        " [ 0.          0.          0.          0.          0.         -2.81683758\n",
                        "   8.64599329  1.09725963 -0.         -0.        ]\n",
                        " [ 0.          0.          0.          0.          0.          0.\n",
                        "   1.09725963  4.06979154 -2.75324831 -0.        ]\n",
                        " [ 0.          0.          0.          0.          0.          0.\n",
                        "   0.         -2.75324831  2.64788203 -0.00561124]\n",
                        " [ 0.          0.          0.          0.          0.          0.\n",
                        "   0.          0.         -0.00561124  0.19395839]]\n",
                        "\n",
                        "Количество итераций: 2\n"
                    ],
                    "name": "stdout"
                }
            ]
        },
        {
            "cell_type": "markdown",
            "metadata": {
                "id": "Hu17PFC5BjRT"
            },
            "source": [
                "# Задание 3"
            ]
        },
        {
            "cell_type": "code",
            "metadata": {
                "id": "MClaRnOKBi5C"
            },
            "source": [
                "from scipy.optimize import root, curve_fit"
            ],
            "execution_count": 10,
            "outputs": []
        },
        {
            "cell_type": "code",
            "metadata": {
                "id": "9PyHDzh_SQBO"
            },
            "source": [
                "def f(x):\r\n",
                "  return np.sqrt(1 + 2*x + np.sqrt(1 + 4*x))/(x*np.sqrt(2))"
            ],
            "execution_count": 11,
            "outputs": []
        },
        {
            "cell_type": "code",
            "metadata": {
                "colab": {
                    "base_uri": "https://localhost:8080/"
                },
                "id": "LmidI_ojSrWf",
                "outputId": "3c95048f-1c3d-4e98-8a5b-249a60db8991"
            },
            "source": [
                "def F(x):\r\n",
                "  return f(x) - 1/0.1\r\n",
                "\r\n",
                "sol = root(F, 0.1)\r\n",
                "sol"
            ],
            "execution_count": 12,
            "outputs": [
                {
                    "output_type": "execute_result",
                    "data": {
                        "text/plain": [
                            "    fjac: array([[-1.]])\n",
                            "     fun: array([0.])\n",
                            " message: 'The solution converged.'\n",
                            "    nfev: 7\n",
                            "     qtf: array([-0.00000004])\n",
                            "       r: array([83.33383478])\n",
                            "  status: 1\n",
                            " success: True\n",
                            "       x: array([0.11])"
                        ]
                    },
                    "metadata": {
                        "tags": []
                    },
                    "execution_count": 12
                }
            ]
        },
        {
            "cell_type": "code",
            "metadata": {
                "colab": {
                    "base_uri": "https://localhost:8080/",
                    "height": 388
                },
                "id": "v2nuAQIbSdYi",
                "outputId": "2310a553-dfea-4bcc-a7f0-d5afaf6e5071"
            },
            "source": [
                "plt.figure(figsize=(6, 6))\r\n",
                "\r\n",
                "circle = plt.Circle((0, 0), np.sqrt(sol.x), color='r')\r\n",
                "plt.gca().add_patch(circle)\r\n",
                "\r\n",
                "plt.xlim((-0.5, 0.5))\r\n",
                "plt.ylim((-0.5, 0.5))\r\n",
                "\r\n",
                "plt.xlabel('Re')\r\n",
                "plt.ylabel('Im')\r\n",
                "\r\n",
                "plt.gca().set_aspect('equal')"
            ],
            "execution_count": 13,
            "outputs": [
                {
                    "output_type": "display_data",
                    "data": {
                        "image/png": "[encoded data removed]",
                        "text/plain": [
                            "<Figure size 432x432 with 1 Axes>"
                        ]
                    },
                    "metadata": {
                        "tags": [],
                        "needs_background": "light"
                    }
                }
            ]
        },
        {
            "cell_type": "code",
            "metadata": {
                "colab": {
                    "base_uri": "https://localhost:8080/"
                },
                "id": "F8PB8TvKSh7b",
                "outputId": "22e437c5-6f29-4ceb-bc57-6472b19e5c8d"
            },
            "source": [
                "def F(x):\r\n",
                "  return f(x) - 1/0.01\r\n",
                "\r\n",
                "sol = root(F, 0.01)\r\n",
                "sol"
            ],
            "execution_count": 14,
            "outputs": [
                {
                    "output_type": "execute_result",
                    "data": {
                        "text/plain": [
                            "    fjac: array([[-1.]])\n",
                            "     fun: array([-0.])\n",
                            " message: 'The solution converged.'\n",
                            "    nfev: 6\n",
                            "     qtf: array([-0.00000001])\n",
                            "       r: array([9803.93108021])\n",
                            "  status: 1\n",
                            " success: True\n",
                            "       x: array([0.0101])"
                        ]
                    },
                    "metadata": {
                        "tags": []
                    },
                    "execution_count": 14
                }
            ]
        },
        {
            "cell_type": "code",
            "metadata": {
                "colab": {
                    "base_uri": "https://localhost:8080/",
                    "height": 388
                },
                "id": "GkfGzmV4U2YH",
                "outputId": "228c4c9d-bfc8-482f-eb19-4f1c24ea868b"
            },
            "source": [
                "plt.figure(figsize=(6, 6))\r\n",
                "\r\n",
                "circle = plt.Circle((0, 0), np.sqrt(sol.x), color='r')\r\n",
                "plt.gca().add_patch(circle)\r\n",
                "\r\n",
                "plt.xlim((-0.5, 0.5))\r\n",
                "plt.ylim((-0.5, 0.5))\r\n",
                "\r\n",
                "plt.xlabel('Re')\r\n",
                "plt.ylabel('Im')\r\n",
                "\r\n",
                "plt.gca().set_aspect('equal')"
            ],
            "execution_count": 15,
            "outputs": [
                {
                    "output_type": "display_data",
                    "data": {
                        "image/png": "[encoded data removed]",
                        "text/plain": [
                            "<Figure size 432x432 with 1 Axes>"
                        ]
                    },
                    "metadata": {
                        "tags": [],
                        "needs_background": "light"
                    }
                }
            ]
        },
        {
            "cell_type": "markdown",
            "metadata": {
                "id": "T3HmGfsZXV0t"
            },
            "source": [
                "# Задание 4"
            ]
        },
        {
            "cell_type": "code",
            "metadata": {
                "id": "OFwcOlY_dWi1"
            },
            "source": [
                "def power_iter(d, v, x, eps=1e-8, maxiter=1000):\r\n",
                "    iters = λ = 0\r\n",
                "    y = x\r\n",
                "    while iters < maxiter:\r\n",
                "      iters += 1\r\n",
                "      x = y / np.linalg.norm(y)\r\n",
                "\r\n",
                "      y = d * x + v * (v @ x)\r\n",
                "      new_λ = x @ y\r\n",
                "      \r\n",
                "      if np.abs(new_λ - λ) < eps:\r\n",
                "        return new_λ, x, iters\r\n",
                "      λ = new_λ\r\n",
                "      \r\n",
                "    return new_λ, x, iters"
            ],
            "execution_count": 16,
            "outputs": []
        },
        {
            "cell_type": "code",
            "metadata": {
                "id": "TnB0gs21rAY_"
            },
            "source": [
                "def min_eig(D, u, eps=1e-5):\r\n",
                "  u /= np.linalg.norm(u)\r\n",
                "  \r\n",
                "  d_max = np.max(D)\r\n",
                "  if d_max + 1 > 0:\r\n",
                "    shift = d_max + 1 + eps\r\n",
                "  else:\r\n",
                "    shift = 0\r\n",
                "  shifted_D = D - shift\r\n",
                "\r\n",
                "  eigval, eigvec, _ = power_iter(shifted_D, u, np.random.normal(size=u.shape))\r\n",
                "  return eigval + shift, eigvec"
            ],
            "execution_count": 17,
            "outputs": []
        },
        {
            "cell_type": "code",
            "metadata": {
                "colab": {
                    "base_uri": "https://localhost:8080/"
                },
                "id": "UG70WA2kWOZc",
                "outputId": "b78a5cbd-abe5-4204-f4a5-3fbbe3bda23b"
            },
            "source": [
                "n = 10**2\r\n",
                "\r\n",
                "D = np.random.normal(size=n)\r\n",
                "u = np.random.normal(size=n)\r\n",
                "\r\n",
                "my_val, my_vec = min_eig(D, u)\r\n",
                "val, vec = np.linalg.eigh(np.diag(D) + np.outer(u, u.T)/(u.T @ u))\r\n",
                "val, vec = val[0], vec[:,0]\r\n",
                "\r\n",
                "print(my_val, val)\r\n",
                "print(sorted(my_vec * np.sign(my_vec[0]) - vec * np.sign(vec[0]))[:5])"
            ],
            "execution_count": 54,
            "outputs": [
                {
                    "output_type": "stream",
                    "text": [
                        "-2.8165477925050983 -2.8165478367217953\n",
                        "[-5.223874174759002e-07, -4.436807875670898e-07, -3.954326440926831e-07, -2.269163757841544e-07, -2.0826098119652858e-07]\n"
                    ],
                    "name": "stdout"
                }
            ]
        },
        {
            "cell_type": "code",
            "metadata": {
                "colab": {
                    "base_uri": "https://localhost:8080/"
                },
                "id": "pVMWfqmWAzn5",
                "outputId": "4cc810a8-bf62-47e5-a1d2-739eed39baa1"
            },
            "source": [
                "n = 10**5\r\n",
                "\r\n",
                "D = np.random.normal(size=n)\r\n",
                "u = np.random.normal(size=n)\r\n",
                "u /= np.linalg.norm(u)\r\n",
                "\r\n",
                "my_val, my_vec = min_eig(D, u)\r\n",
                "\r\n",
                "print(D * my_vec + u * (u @ my_vec))\r\n",
                "print(my_val * my_vec)"
            ],
            "execution_count": 19,
            "outputs": [
                {
                    "output_type": "stream",
                    "text": [
                        "[-0.00000133 -0.00000483 -0.00001452 ...  0.00002291 -0.00000889\n",
                        "  0.00001653]\n",
                        "[-0.00000133 -0.00000483 -0.00001452 ...  0.00002291 -0.00000889\n",
                        "  0.00001653]\n"
                    ],
                    "name": "stdout"
                }
            ]
        },
        {
            "cell_type": "markdown",
            "metadata": {
                "id": "PherjXIgDCoF"
            },
            "source": [
                "# Задание 5"
            ]
        },
        {
            "cell_type": "code",
            "metadata": {
                "colab": {
                    "base_uri": "https://localhost:8080/"
                },
                "id": "igPF3x14DJ7v",
                "outputId": "89c09110-d3ca-4f7a-b78a-5c436eebda4c"
            },
            "source": [
                "n = 1000\r\n",
                "c = 1 / 2\r\n",
                "A = np.zeros((2*n - 1, 2*n - 1))\r\n",
                "\r\n",
                "\r\n",
                "for i in range(2*n - 1):\r\n",
                "  A[0, i] = A[-1, 2*n - 2 -i] = c if i % 2 == 0 else 1\r\n",
                "\r\n",
                "A[0, 0] += 2\r\n",
                "A[-1, -1] += 2\r\n",
                "\r\n",
                "A[0, 1] = 0\r\n",
                "A[-1, -2] = 0\r\n",
                "\r\n",
                "\r\n",
                "for i in range(1, 2*n - 2):\r\n",
                "  A[i, i-1:i+2] = [-1, 2, -1]\r\n",
                "  if i % 2 == 1:\r\n",
                "    A[i, i-1:i+2] *= c\r\n",
                "\r\n",
                "\r\n",
                "print(A)"
            ],
            "execution_count": 44,
            "outputs": [
                {
                    "output_type": "stream",
                    "text": [
                        "[[ 2.5  0.   0.5 ...  0.5  1.   0.5]\n",
                        " [-0.5  1.  -0.5 ...  0.   0.   0. ]\n",
                        " [ 0.  -1.   2.  ...  0.   0.   0. ]\n",
                        " ...\n",
                        " [ 0.   0.   0.  ...  2.  -1.   0. ]\n",
                        " [ 0.   0.   0.  ... -0.5  1.  -0.5]\n",
                        " [ 0.5  1.   0.5 ...  0.5  0.   2.5]]\n"
                    ],
                    "name": "stdout"
                }
            ]
        },
        {
            "cell_type": "code",
            "metadata": {
                "colab": {
                    "base_uri": "https://localhost:8080/",
                    "height": 265
                },
                "id": "mlZ9zebHmvP0",
                "outputId": "db574c57-5661-40f0-a286-96a21581f1b9"
            },
            "source": [
                "eigvals = np.linalg.eigvals(A)\r\n",
                "plt.hist(np.real_if_close(eigvals), bins=150)\r\n",
                "\r\n",
                "plt.show()"
            ],
            "execution_count": 47,
            "outputs": [
                {
                    "output_type": "display_data",
                    "data": {
                        "image/png": "[encoded data removed]",
                        "text/plain": [
                            "<Figure size 432x288 with 1 Axes>"
                        ]
                    },
                    "metadata": {
                        "tags": [],
                        "needs_background": "light"
                    }
                }
            ]
        },
        {
            "cell_type": "code",
            "metadata": {
                "colab": {
                    "base_uri": "https://localhost:8080/",
                    "height": 265
                },
                "id": "SNAYZcVdqEvo",
                "outputId": "96e5716b-025f-4437-c4c8-78e3e425471b"
            },
            "source": [
                "k = np.random.uniform(1,  10)\r\n",
                "eigvals = np.linalg.eigvals(k * A)\r\n",
                "lot = plt.hist(np.real_if_close(eigvals), bins=150)\r\n",
                "\r\n",
                "plt.show()"
            ],
            "execution_count": 48,
            "outputs": [
                {
                    "output_type": "display_data",
                    "data": {
                        "image/png": "[encoded data removed]",
                        "text/plain": [
                            "<Figure size 432x288 with 1 Axes>"
                        ]
                    },
                    "metadata": {
                        "tags": [],
                        "needs_background": "light"
                    }
                }
            ]
        },
        {
            "cell_type": "code",
            "metadata": {
                "id": "kzjLwOmPBOv-"
            },
            "source": [
                ""
            ],
            "execution_count": null,
            "outputs": []
        }
    ]
}