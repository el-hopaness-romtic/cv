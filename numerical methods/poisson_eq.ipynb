{
    "cells": [
        {
            "cell_type": "code",
            "execution_count": null,
            "metadata": {
                "deletable": false,
                "editable": false,
                "id": "aF_pjd-3z11n",
                "nbgrader": {
                    "cell_type": "code",
                    "checksum": "8382cf4830447d6a550b2c1beccefef9",
                    "grade": false,
                    "grade_id": "cell-10d3ab75b0553c8f",
                    "locked": true,
                    "schema_version": 3,
                    "solution": false,
                    "task": false
                }
            },
            "outputs": [],
            "source": [
                "import numpy as np\n",
                "from scipy import linalg"
            ]
        },
        {
            "cell_type": "markdown",
            "metadata": {
                "deletable": false,
                "editable": false,
                "id": "c4HMr93-z11o",
                "nbgrader": {
                    "cell_type": "markdown",
                    "checksum": "3507b7abad0d9a96b62893948bb3afd6",
                    "grade": false,
                    "grade_id": "cell-e622a46d3504201a",
                    "locked": true,
                    "schema_version": 3,
                    "solution": false,
                    "task": false
                }
            },
            "source": [
                "# Задача Дирихле для уравнения Пуассона"
            ]
        },
        {
            "cell_type": "markdown",
            "metadata": {
                "deletable": false,
                "editable": false,
                "id": "jDI3_4RIz11o",
                "nbgrader": {
                    "cell_type": "markdown",
                    "checksum": "71652abe5dff8b684d3e1489a50f0ac4",
                    "grade": false,
                    "grade_id": "cell-1570984d7bba615a",
                    "locked": true,
                    "schema_version": 3,
                    "solution": false,
                    "task": false
                }
            },
            "source": [
                "Задача Дирихле для уравнения Пуассона в общем виде выглядит следующим образом:\n",
                "$$\n",
                "\\left\\{\n",
                "\\begin{array}{l l}\n",
                "\\Delta{u} = -f(\\vec{x}), & \\vec{x} \\in G, \\\\\n",
                "u = \\mu (\\vec{x}), & \\vec{x} \\in \\partial G. \\\\\n",
                "\\end{array}\n",
                "\\right.$$"
            ]
        },
        {
            "cell_type": "markdown",
            "metadata": {
                "deletable": false,
                "editable": false,
                "id": "F8dEZoE5z11p",
                "nbgrader": {
                    "cell_type": "markdown",
                    "checksum": "d9585aed6724a47be1fcf6da1dd58941",
                    "grade": false,
                    "grade_id": "cell-3ad6573859c1def6",
                    "locked": true,
                    "schema_version": 3,
                    "solution": false,
                    "task": false
                }
            },
            "source": [
                "Здесь Вам предстоит решить следующую задачу для двумерного уравнения:\n",
                "$$\n",
                "\\begin{array}{l}\n",
                "\\Delta{u} = 4, \\; x \\in (0;1), \\; y \\in (0;1), \\\\\n",
                "\\left.u\\right|_{x = 0} = y^2, \\; \\left.u\\right|_{x = 1} = 1 + y^2, \\; \\left.u\\right|_{y = 0} = x^2, \\; \\left.u\\right|_{y = 1} = 1 + x^2. \\\\\n",
                "\\end{array}$$\n",
                "\n",
                "Точным решением этого уравнения является функция $u(x, y) = x^2 + y^2$."
            ]
        },
        {
            "cell_type": "markdown",
            "metadata": {
                "deletable": false,
                "editable": false,
                "id": "XsuqdehQz11p",
                "nbgrader": {
                    "cell_type": "markdown",
                    "checksum": "591e04d2c612095db6caef7adf70d2bf",
                    "grade": false,
                    "grade_id": "cell-6fd98c6e0fa7e66c",
                    "locked": true,
                    "schema_version": 3,
                    "solution": false,
                    "task": false
                }
            },
            "source": [
                "Для того, чтобы численно решить эту задачу, введём сетку на двумерной области её определения и запишем задачу на пятиточечном шаблоне.\n",
                "\n",
                "$$\n",
                "\\frac{y_{i + 1, j} - 2y_{i, j} + y_{i - 1, j}}{h^2} + \\frac{y_{i, j + 1} - 2y_{i, j} + y_{i, j - 1}}{h^2} = \n",
                "4.$$\n",
                "\n",
                "Граничные условия для сеточной функции $y$ примут вид:\n",
                "$$y_{0, j} = y_j^2,\\;y_{N, j} = 1 + y_j^2,\\;y_{i, 0} = x_i^2,\\;y_{i, N} = 1 + x_i^2$$"
            ]
        },
        {
            "cell_type": "markdown",
            "metadata": {
                "deletable": false,
                "editable": false,
                "id": "uDoOLRcnz11q",
                "nbgrader": {
                    "cell_type": "markdown",
                    "checksum": "b2b6fae355cfda0348a2eb594132701b",
                    "grade": false,
                    "grade_id": "cell-9afc04e677b9e281",
                    "locked": true,
                    "schema_version": 3,
                    "solution": false,
                    "task": false
                }
            },
            "source": [
                "Вам предлагается решить это конечно-разностное уравнение одним из двух способов: методом Зейделя или методом Фурье."
            ]
        },
        {
            "cell_type": "markdown",
            "metadata": {
                "deletable": false,
                "editable": false,
                "id": "Dec4oL1Dz11r",
                "nbgrader": {
                    "cell_type": "markdown",
                    "checksum": "2a2a5ade2009465822140e907559948a",
                    "grade": false,
                    "grade_id": "cell-c68936db5da31845",
                    "locked": true,
                    "schema_version": 3,
                    "solution": false,
                    "task": false
                }
            },
            "source": [
                "## Метод Зейделя "
            ]
        },
        {
            "cell_type": "markdown",
            "metadata": {
                "deletable": false,
                "editable": false,
                "id": "u50oRTMhz11s",
                "nbgrader": {
                    "cell_type": "markdown",
                    "checksum": "c877ccc5133660abacfc4ee4937a7bb8",
                    "grade": false,
                    "grade_id": "cell-e77a0b6207aac257",
                    "locked": true,
                    "schema_version": 3,
                    "solution": false,
                    "task": false
                }
            },
            "source": [
                "Метод заключается в составлении системы линейных уравнений для вектора решения."
            ]
        },
        {
            "cell_type": "markdown",
            "metadata": {
                "deletable": false,
                "editable": false,
                "id": "x0yYn8H4z11t",
                "nbgrader": {
                    "cell_type": "markdown",
                    "checksum": "3588ea17aacd1edea0017dec7cc10ac6",
                    "grade": false,
                    "grade_id": "cell-7f6e706ff00cad48",
                    "locked": true,
                    "schema_version": 3,
                    "solution": false,
                    "task": false
                }
            },
            "source": [
                "Алгоритм метода:\n",
                "1. \"Вытяните\" решение. Произведите замену матрицы $(N+1) \\times (N+1)$ значений сеточной функции на вектор длины $(N+1)^2$.\n",
                "2. Найдите новые индексы известных значений граниных условий.\n",
                "3. Исключите известные значения из системы уравнений.\n",
                "4. Запишите систему в матричном виде. Решите её итерационным методом Зейделя."
            ]
        },
        {
            "cell_type": "markdown",
            "metadata": {
                "deletable": false,
                "editable": false,
                "id": "tGytN8lGz11t",
                "nbgrader": {
                    "cell_type": "markdown",
                    "checksum": "7e83be0d4439254950663b069ce3816a",
                    "grade": false,
                    "grade_id": "cell-de58d3a87b59f16f",
                    "locked": true,
                    "schema_version": 3,
                    "solution": false,
                    "task": false
                }
            },
            "source": [
                "Запрограммируйте метод Зейделя численного решения уравнения Пуассона, используя функции `scipy`."
            ]
        },
        {
            "cell_type": "code",
            "execution_count": null,
            "metadata": {
                "deletable": false,
                "id": "DSo8AT6jz11u",
                "nbgrader": {
                    "cell_type": "code",
                    "checksum": "846368b7a8032178ad0c28093a6f05dc",
                    "grade": false,
                    "grade_id": "cell-81b4b94f1207e824",
                    "locked": false,
                    "schema_version": 3,
                    "solution": true,
                    "task": false
                }
            },
            "outputs": [],
            "source": [
                "def seidel_poisson(h, tol=1e-3):\n",
                "    \"\"\" Solve Poisson equation `Δ u = 4` with Seidel method.\n",
                "    \n",
                "    Parameters\n",
                "    ----------\n",
                "    h : float\n",
                "       Spatial step\n",
                "    tol : float, optional\n",
                "       Tolerance for Seidel iterations\n",
                "       \n",
                "    Returns\n",
                "    -------\n",
                "    x_grid: ndarray, shape (N+1,)\n",
                "       Grid along x-axis\n",
                "    y_grid: ndarray, shape (N+1,)\n",
                "       Grid along y-axis\n",
                "    niter : integer\n",
                "       Number of Seidel iterations\n",
                "    u_sol : ndarray, shape (N+1,N+1)\n",
                "       Solution of the scheme\n",
                "    \"\"\"\n",
                "    \n",
                "    # YOUR CODE HERE\n",
                "    raise NotImplementedError()\n",
                "    \n",
                "    return x_grid, y_grid, niter, u_sol"
            ]
        },
        {
            "cell_type": "markdown",
            "metadata": {
                "deletable": false,
                "editable": false,
                "id": "6YMHLZ9Ez11w",
                "nbgrader": {
                    "cell_type": "markdown",
                    "checksum": "4fe8dbd04d2bde15ed134fc0a13dca84",
                    "grade": false,
                    "grade_id": "cell-09f19388e9c3a109",
                    "locked": true,
                    "schema_version": 3,
                    "solution": false,
                    "task": false
                }
            },
            "source": [
                "Протестируйте функцию."
            ]
        },
        {
            "cell_type": "code",
            "execution_count": null,
            "metadata": {
                "deletable": false,
                "editable": false,
                "id": "Fd7lAE0Kz11x",
                "nbgrader": {
                    "cell_type": "code",
                    "checksum": "bb4ac7afdebe773fba35f49db2d5105e",
                    "grade": true,
                    "grade_id": "cell-1138d9d2a2155806",
                    "locked": true,
                    "points": 15,
                    "schema_version": 3,
                    "solution": false,
                    "task": false
                }
            },
            "outputs": [],
            "source": [
                "from numpy.testing import assert_allclose\n",
                "u = lambda x, y: x**2 + y**2\n",
                "\n",
                "x_1, y_1, nit_1, u_num_1 = seidel_poisson(0.1)\n",
                "assert_allclose(u_num_1, u(x_1[:, None], y_1[None, :]), atol=1e-2)\n"
            ]
        },
        {
            "cell_type": "markdown",
            "metadata": {
                "deletable": false,
                "editable": false,
                "id": "m57sm6Oez11x",
                "nbgrader": {
                    "cell_type": "markdown",
                    "checksum": "ccadf232c50a449c2b17ed22e7c269c2",
                    "grade": false,
                    "grade_id": "cell-223d4886b6adef54",
                    "locked": true,
                    "schema_version": 3,
                    "solution": false,
                    "task": false
                }
            },
            "source": [
                "Постройте решение конечно-разностного уравнения с любым шагом и сравните его с точным решением (постройте график ошибки)."
            ]
        },
        {
            "cell_type": "code",
            "execution_count": null,
            "metadata": {
                "id": "KnwUHw_-z11y"
            },
            "outputs": [],
            "source": [
                "# YOUR CODE HERE"
            ]
        },
        {
            "cell_type": "markdown",
            "metadata": {
                "deletable": false,
                "editable": false,
                "id": "gixOzhzFz11y",
                "nbgrader": {
                    "cell_type": "markdown",
                    "checksum": "503945c5f7ca7dde3a2c598569ed94ef",
                    "grade": false,
                    "grade_id": "cell-3ba5709f303ce043",
                    "locked": true,
                    "schema_version": 3,
                    "solution": false,
                    "task": false
                }
            },
            "source": [
                "## Метод Фурье\n",
                "\n",
                "Решение задачи Дирихле для уравнения Пуассона общего вида можно представить в узлах сетки в виде линейной комбинации собственных функций конечно-разностного оператора второй производной\n",
                "$$y_{k, l} = \\sum\\limits_{s = 1}^{N-1} c_s(k) \\sqrt{\\dfrac{2}{a}} \\sin{\\dfrac{\\pi s l}{N}} \\; \\forall k = \\overline{0,N}, $$\n",
                "где $a$ - длина отрезка области определения задачи.\n",
                "\n",
                "Функцию правой части в узлах сетки можно представить таким же образом:\n",
                "$$f_{k, l} = \\sum\\limits_{s = 1}^{N-1} \\hat{f_s}(k) \\sqrt{\\dfrac{2}{a}} \\sin{\\dfrac{\\pi s l}{N}} \\; \\forall k = \\overline{0,N},$$\n",
                "где $\\hat{f_s}(k) = h \\sum\\limits_{l = 1}^{N-1} f_{k, l} \\sqrt{\\dfrac{2}{a}} \\sin{\\dfrac{\\pi s l}{N}}$.\n",
                "\n",
                "Подставив соответствующие разложения в исходное конечно-разностное уравнение Пуассона, получим систему\n",
                "$$\n",
                "\\left\\{\n",
                "\\begin{array}{l}\n",
                "\\dfrac{c_s(k+1) - 2 c_s(k) + c_s(k-1)}{h^2} - \\lambda_s c_s(k) = \\hat{f_s}(k), \\\\\n",
                "c_s(0) = c_s(N) = 0,\n",
                "\\end{array}\n",
                "\\right.$$\n",
                "где $\\lambda_s = \\dfrac{4}{h^2} \\sin^2{\\dfrac{\\pi s}{2 N}}$ - собственные числа конечно-разностного оператора второй производной."
            ]
        },
        {
            "cell_type": "markdown",
            "metadata": {
                "deletable": false,
                "editable": false,
                "id": "clFlq2GRz11y",
                "nbgrader": {
                    "cell_type": "markdown",
                    "checksum": "ea3085bcd93c7d130d23af5c584e0c8a",
                    "grade": false,
                    "grade_id": "cell-a990ced8af9ecfea",
                    "locked": true,
                    "schema_version": 3,
                    "solution": false,
                    "task": false
                }
            },
            "source": [
                "Алгоритм метода:\n",
                "1. Найдите коэффициенты $\\hat{f_s}(k)$.\n",
                "1. Решите трёхдиагональную систему уравнений для набора коэффициентов $c_s$.\n",
                "3. Восстановите решение $y_{k, l}$."
            ]
        },
        {
            "cell_type": "markdown",
            "metadata": {
                "deletable": false,
                "editable": false,
                "id": "n9hDLuQDz11z",
                "nbgrader": {
                    "cell_type": "markdown",
                    "checksum": "ae77eddaf9e15d2e29df67b2db9ba2d2",
                    "grade": false,
                    "grade_id": "cell-f24baf6f17b317a5",
                    "locked": true,
                    "schema_version": 3,
                    "solution": false,
                    "task": false
                }
            },
            "source": [
                "Запрограммируйте метод Фурье численного решения уравнения Пуассона, используя функции `scipy`."
            ]
        },
        {
            "cell_type": "code",
            "execution_count": null,
            "metadata": {
                "id": "dwyt-mJx1O5y"
            },
            "outputs": [],
            "source": [
                "import scipy\n",
                "from matplotlib import pyplot as plt\n",
                "\n",
                "from numpy.testing import assert_allclose\n",
                "u = lambda x, y: x**2 + y**2"
            ]
        },
        {
            "cell_type": "code",
            "execution_count": null,
            "metadata": {
                "deletable": false,
                "id": "ng7NGN2Dz11z",
                "nbgrader": {
                    "cell_type": "code",
                    "checksum": "f4549c2999ace3859f12e43af5c32b7b",
                    "grade": false,
                    "grade_id": "cell-eb6452ad0643350e",
                    "locked": false,
                    "schema_version": 3,
                    "solution": true,
                    "task": false
                }
            },
            "outputs": [],
            "source": [
                "def fourier_poisson(h):\n",
                "    \"\"\" Solve Poisson equation `Δ u = 4` with Fourier method.\n",
                "\n",
                "    Parameters\n",
                "    ----------\n",
                "    h : float\n",
                "       Spatial step\n",
                "\n",
                "    Returns\n",
                "    -------\n",
                "    x_grid: ndarray, shape (N+1,)\n",
                "       Grid along x-axis\n",
                "    y_grid: ndarray, shape (N+1,)\n",
                "       Grid along y-axis\n",
                "    u_sol : ndarray, shape (N+1,N+1)\n",
                "       Solution of the scheme\n",
                "    \"\"\"\n",
                "    a = 1\n",
                "    N = round(1/h)\n",
                "    x_grid = np.linspace(0, 1, N+1)\n",
                "    y_grid = np.linspace(0, 1, N+1)\n",
                "\n",
                "    u_sol = np.empty((N+1, N+1)) * np.nan\n",
                "    u_sol[0] = y_grid**2\n",
                "    u_sol[:, 0] = x_grid**2\n",
                "    u_sol[-1] = 1 + y_grid**2\n",
                "    u_sol[:, -1] = 1 + x_grid**2\n",
                "\n",
                "    def ftilda(k, l):\n",
                "      if k == 0 or l == 0:\n",
                "        return np.nan\n",
                "      res = -4\n",
                "      if k == 1:\n",
                "          res += u_sol[0, l]/h**2\n",
                "      if l == 1:\n",
                "          res += u_sol[k, 0]/h**2\n",
                "      if k == N-1:\n",
                "          res += u_sol[N, l]/h**2\n",
                "      if l == N-1:\n",
                "          res += u_sol[k, N]/h**2\n",
                "      return res\n",
                "      \n",
                "    # g[s](l) := g_s(l)\n",
                "    g = [lambda l, s=s: np.sqrt(2/a) * np.sin(np.pi * s * l / N) for s in range(N+1)]\n",
                "    g[0] = g[N] = lambda l: np.nan\n",
                "\n",
                "    # λ[s] := λ_s\n",
                "    λ = [4 * np.sin(np.pi * s * h / (2*a))**2 / h**2 for s in range(N+1)]\n",
                "    λ[0] = λ[N] = np.nan\n",
                "\n",
                "    def fft(x):\n",
                "      n = len(x)\n",
                "      new_x = np.zeros((n+1)*2)\n",
                "      new_x[1:n+1] = x\n",
                "      res = scipy.fft.rfft(new_x)\n",
                "      return -res.imag * h * np.sqrt(2/a)\n",
                "\n",
                "    # fhat[s, k] := fhat_s(k)\n",
                "    fhat = np.empty((N+1, N+1))\n",
                "    for k in range(1, N):\n",
                "      fhat[:, k] = fft([ftilda(k, l) for l in range(1, N)])\n",
                "    fhat[0] = fhat[N] = fhat[:, 0] = fhat[:, N] = np.nan\n",
                "\n",
                "    # c[s][k] := c_s(k)\n",
                "    c = [np.nan] * (N+1)\n",
                "    for s in range(1, N):        \n",
                "        A_banded = np.empty((3, N-1))\n",
                "        A_banded[0] = A_banded[2] = 1/h**2\n",
                "        A_banded[1] = -(2/h**2 + λ[s])\n",
                "        \n",
                "        b = -fhat[s, 1:N]\n",
                "\n",
                "        c[s] = [np.nan] * (N+1)\n",
                "        c[s][1:N] = linalg.solve_banded((1, 1), A_banded, b)\n",
                "        \n",
                "    for k in range(1, N):\n",
                "        for l in range(1, N):\n",
                "            u_sol[k, l] = sum(c[s][k] * g[s](l) for s in range(1, N))\n",
                "\n",
                "    return x_grid, y_grid, u_sol"
            ]
        },
        {
            "cell_type": "markdown",
            "metadata": {
                "deletable": false,
                "editable": false,
                "id": "d8PfEmbbz11z",
                "nbgrader": {
                    "cell_type": "markdown",
                    "checksum": "10c8369d2d001c29602701a0d262af20",
                    "grade": false,
                    "grade_id": "cell-cd197b8f0f409060",
                    "locked": true,
                    "schema_version": 3,
                    "solution": false,
                    "task": false
                }
            },
            "source": [
                "Протестируйте функцию."
            ]
        },
        {
            "cell_type": "code",
            "execution_count": null,
            "metadata": {
                "deletable": false,
                "editable": false,
                "id": "yutd0zDMz110",
                "nbgrader": {
                    "cell_type": "code",
                    "checksum": "0749120c921ab1815502f7a41b3318cb",
                    "grade": true,
                    "grade_id": "cell-8645788b475c89dd",
                    "locked": true,
                    "points": 15,
                    "schema_version": 3,
                    "solution": false,
                    "task": false
                }
            },
            "outputs": [],
            "source": [
                "x_1, y_1, u_num_1 = fourier_poisson(0.1)\n",
                "assert_allclose(u_num_1, u(x_1[:, None], y_1[None, :]), atol=1e-5)\n"
            ]
        },
        {
            "cell_type": "markdown",
            "metadata": {
                "deletable": false,
                "editable": false,
                "id": "pwC4Ta0Oz110",
                "nbgrader": {
                    "cell_type": "markdown",
                    "checksum": "640c55483369233faa55a967fa8f9023",
                    "grade": false,
                    "grade_id": "cell-b3c276ec75433241",
                    "locked": true,
                    "schema_version": 3,
                    "solution": false,
                    "task": false
                }
            },
            "source": [
                "\n",
                "\n",
                "\n",
                "\n",
                "\n",
                "\n",
                "\n",
                "\n",
                "\n",
                "\n",
                "\n",
                "\n",
                "\n",
                "\n",
                "\n",
                "\n",
                "\n",
                "\n",
                "\n",
                "\n",
                "\n",
                "\n",
                "\n",
                "\n",
                "\n",
                "\n",
                "\n",
                "Постройте решение конечно-разностного уравнения с любым шагом и сравните его с точным решением (постройте график ошибки)."
            ]
        },
        {
            "cell_type": "code",
            "execution_count": null,
            "metadata": {
                "id": "XIgKk2Mt1Q8G"
            },
            "outputs": [],
            "source": [
                "# ошибка для разных h\n",
                "hs = 1/np.arange(3, 75)\n",
                "diff_integral = hs**2\n",
                "for i in range(len(hs)):\n",
                "  x_1, y_1, u_num_1 = fourier_poisson(hs[i])\n",
                "  diff = np.abs(u_num_1 - u(x_1[:, None], y_1[None, :]))\n",
                "  row_diff = (diff[:, 0] + diff[:, -1])/2 + np.sum(diff[:, 1:-1], axis=1)\n",
                "  diff_integral[i] *= (row_diff[0] + row_diff[-1])/2 + np.sum(row_diff[1:-1])"
            ]
        },
        {
            "cell_type": "code",
            "execution_count": null,
            "metadata": {
                "colab": {
                    "base_uri": "https://localhost:8080/",
                    "height": 269
                },
                "id": "mjanhWRfXsXe",
                "outputId": "057d9e8b-fd73-474b-e69d-0df0df6ba182"
            },
            "outputs": [
                {
                    "data": {
                        "image/png": "[encoded data removed]",
                        "text/plain": [
                            "<Figure size 432x288 with 1 Axes>"
                        ]
                    },
                    "metadata": {
                        "needs_background": "light"
                    },
                    "output_type": "display_data"
                }
            ],
            "source": [
                "plt.plot(hs, diff_integral)\n",
                "plt.xscale('log')\n",
                "plt.yscale('log')"
            ]
        },
        {
            "cell_type": "code",
            "execution_count": null,
            "metadata": {
                "id": "aon2rgAPSg67"
            },
            "outputs": [],
            "source": []
        }
    ],
    "metadata": {
        "kernelspec": {
            "display_name": "Python 3",
            "language": "python",
            "name": "python3"
        },
        "language_info": {
            "codemirror_mode": {
                "name": "ipython",
                "version": 3
            },
            "file_extension": ".py",
            "mimetype": "text/x-python",
            "name": "python",
            "nbconvert_exporter": "python",
            "pygments_lexer": "ipython3",
            "version": "3.8.10"
        }
    },
    "nbformat": 4,
    "nbformat_minor": 0
}