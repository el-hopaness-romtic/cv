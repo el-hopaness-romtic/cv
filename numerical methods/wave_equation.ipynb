{
    "cells": [
        {
            "cell_type": "code",
            "execution_count": 1,
            "metadata": {
                "executionInfo": {
                    "elapsed": 36,
                    "status": "ok",
                    "timestamp": 1654450013647,
                    "user": {
                        "displayName": "Геворг Варданян",
                        "userId": "05219355763958203907"
                    },
                    "user_tz": -180
                },
                "id": "7fa7d99d"
            },
            "outputs": [],
            "source": [
                "import numpy as np\n",
                "import matplotlib.pyplot as plt"
            ]
        },
        {
            "cell_type": "code",
            "execution_count": 2,
            "metadata": {
                "colab": {
                    "base_uri": "https://localhost:8080/"
                },
                "executionInfo": {
                    "elapsed": 33,
                    "status": "ok",
                    "timestamp": 1654450013649,
                    "user": {
                        "displayName": "Геворг Варданян",
                        "userId": "05219355763958203907"
                    },
                    "user_tz": -180
                },
                "id": "e7f6c14c",
                "outputId": "2b6c0bb7-b515-42d4-d725-9369ab88cc60"
            },
            "outputs": [
                {
                    "name": "stdout",
                    "output_type": "stream",
                    "text": [
                        "gamma =  0.0625\n"
                    ]
                }
            ],
            "source": [
                "L, T = 1, 1\n",
                "c = 2.\n",
                "\n",
                "Nx = 100\n",
                "Nt = 800\n",
                "\n",
                "tau = T / Nt\n",
                "h = L / Nx\n",
                "gamma = (c * tau / h)**2\n",
                "\n",
                "print('gamma = ', gamma)\n",
                "\n",
                "# set the grids\n",
                "y = np.zeros((Nt+1, Nx+1), dtype=float)  # the solution\n",
                "\n",
                "xj = np.linspace(0, 1, Nx+1, endpoint=True)\n",
                "tn = np.linspace(0, 1, Nt+1, endpoint=True)"
            ]
        },
        {
            "cell_type": "code",
            "execution_count": 3,
            "metadata": {
                "executionInfo": {
                    "elapsed": 21,
                    "status": "ok",
                    "timestamp": 1654450013650,
                    "user": {
                        "displayName": "Геворг Варданян",
                        "userId": "05219355763958203907"
                    },
                    "user_tz": -180
                },
                "id": "2fb61b22"
            },
            "outputs": [],
            "source": [
                "# initial conditions\n",
                "def u0(x):\n",
                "    return np.sin(2.*np.pi*x)\n",
                "\n",
                "def u0p(x):\n",
                "    return 0.01"
            ]
        },
        {
            "cell_type": "code",
            "execution_count": 4,
            "metadata": {
                "executionInfo": {
                    "elapsed": 22,
                    "status": "ok",
                    "timestamp": 1654450013652,
                    "user": {
                        "displayName": "Геворг Варданян",
                        "userId": "05219355763958203907"
                    },
                    "user_tz": -180
                },
                "id": "d87e71e5"
            },
            "outputs": [],
            "source": [
                "def make_step(y, n, gamma):\n",
                "    \"\"\"Make a step n -> n+1.\"\"\"\n",
                "    assert n >= 1\n",
                "    y[n+1, 0] = 0\n",
                "    y[n+1, -1] = 0\n",
                "    for j in range(1, Nx):\n",
                "        y[n+1, j] = 2*y[n, j] - y[n-1, j] + gamma * (y[n, j+1] - 2*y[n, j] + y[n, j-1])\n",
                "\n",
                "# set initial conditions\n",
                "y[0, :] = u0(xj)\n",
                "y[1, :] = y[0, :] + tau * u0p(xj)\n",
                "for n in range(1, Nt):\n",
                "    make_step(y, n, gamma)"
            ]
        },
        {
            "cell_type": "code",
            "execution_count": 5,
            "metadata": {
                "executionInfo": {
                    "elapsed": 383,
                    "status": "ok",
                    "timestamp": 1654450014015,
                    "user": {
                        "displayName": "Геворг Варданян",
                        "userId": "05219355763958203907"
                    },
                    "user_tz": -180
                },
                "id": "4c588803"
            },
            "outputs": [],
            "source": [
                "%%capture\n",
                "# draw / animate\n",
                "# http://louistiao.me/posts/notebooks/embedding-matplotlib-animations-in-jupyter-as-interactive-javascript-widgets/\n",
                "\n",
                "def init():\n",
                "    line.set_data([], [])\n",
                "    return line,\n",
                "\n",
                "def animate(n):\n",
                "    line.set_data(xj, y[n, :])\n",
                "    return line,\n",
                "\n",
                "from matplotlib import animation, rc\n",
                "from IPython.display import HTML\n",
                "%matplotlib inline\n",
                "\n",
                "fig, ax = plt.subplots()\n",
                "ax.set_xlim([0, 1])\n",
                "ax.set_ylim([-1.1, 1.1])\n",
                "line, = ax.plot([], [], '.-', lw=2)\n",
                "\n",
                "anim = animation.FuncAnimation(fig, animate, init_func=init,\n",
                "                               frames=Nt, interval=20, \n",
                "                               blit=True);"
            ]
        },
        {
            "cell_type": "code",
            "execution_count": null,
            "metadata": {
                "colab": {
                    "background_save": true,
                    "output_embedded_package_id": "1gN8bua0f0WpB7gy7qFh3VIa2DNP4PCZ1"
                },
                "id": "HkXhW_uudbWG",
                "outputId": "8df7a280-c6c8-414c-9090-1be27f1d9d4c"
            },
            "outputs": [],
            "source": [
                "HTML(anim.to_jshtml())"
            ]
        },
        {
            "cell_type": "markdown",
            "metadata": {
                "id": "FicFNbtSePxp"
            },
            "source": [
                "# Задание 1"
            ]
        },
        {
            "cell_type": "code",
            "execution_count": null,
            "metadata": {
                "colab": {
                    "background_save": true
                },
                "id": "9tA42FetzglA"
            },
            "outputs": [],
            "source": [
                "answer = np.empty((Nt+1, Nx+1))\n",
                "u = lambda x, t: 0.5*(np.sin(2*np.pi*(x-2*t)) + np.cos(2*np.pi*(x+2*t-0.25)))\n",
                "\n",
                "for n in range(Nt):\n",
                "    answer[n] = u(xj, tn[n])"
            ]
        },
        {
            "cell_type": "code",
            "execution_count": null,
            "metadata": {
                "colab": {
                    "background_save": true
                },
                "id": "sicjEJcbeZU0"
            },
            "outputs": [],
            "source": [
                "%%capture\n",
                "# draw / animate\n",
                "# http://louistiao.me/posts/notebooks/embedding-matplotlib-animations-in-jupyter-as-interactive-javascript-widgets/\n",
                "\n",
                "def init():\n",
                "    line.set_data([], [])\n",
                "    line2.set_data([], [])\n",
                "    return line, line2,\n",
                "\n",
                "def animate(n):\n",
                "    line.set_data(xj, y[n, :])\n",
                "    line2.set_data(xj, answer[n, :])\n",
                "    return line, line2,\n",
                "\n",
                "fig, ax = plt.subplots()\n",
                "ax.set_xlim([0, 1])\n",
                "ax.set_ylim([-1.1, 1.1])\n",
                "line, = ax.plot([], [], '.-', lw=2)\n",
                "line2, = ax.plot([], [], '.-', lw=2)\n",
                "\n",
                "anim = animation.FuncAnimation(fig, animate, init_func=init,\n",
                "                               frames=Nt, interval=20, \n",
                "                               blit=True);"
            ]
        },
        {
            "cell_type": "code",
            "execution_count": null,
            "metadata": {
                "colab": {
                    "background_save": true,
                    "output_embedded_package_id": "1inthWfeshi4DSc5s3dIaBfVVCg2JCVNR"
                },
                "id": "vxfKdMlrefJa",
                "outputId": "ae1e67db-f07e-4738-aec1-ca946b1ee4a2"
            },
            "outputs": [],
            "source": [
                "HTML(anim.to_jshtml())"
            ]
        },
        {
            "cell_type": "markdown",
            "metadata": {
                "id": "_4BcTe1MxfUy"
            },
            "source": [
                "## h"
            ]
        },
        {
            "cell_type": "code",
            "execution_count": null,
            "metadata": {
                "id": "Se-QekJkesCE"
            },
            "outputs": [],
            "source": [
                "Nxs = np.array(list(range(50, 400, 15)))\n",
                "Nt = 800\n",
                "tn = np.linspace(0, 1, Nt+1, endpoint=True)\n",
                "tau = T / Nt\n",
                "error = []\n",
                "\n",
                "for Nx in Nxs:\n",
                "  xj = np.linspace(0, 1, Nx+1, endpoint=True)\n",
                "  h = L / Nx\n",
                "  gamma = (c * tau / h)**2\n",
                "\n",
                "  y = np.empty((Nt+1, Nx+1))\n",
                "  answer = np.empty((Nt+1, Nx+1))\n",
                "\n",
                "  y[0] = u0(xj)\n",
                "  y[1] = y[0] + tau * u0p(xj)\n",
                "  answer[0] = u(xj, tn[0])\n",
                "  answer[Nt] = u(xj, tn[Nt])\n",
                "\n",
                "  for n in range(1, Nt):\n",
                "      make_step(y, n, gamma)\n",
                "      answer[n] = u(xj, tn[n])\n",
                "  \n",
                "  diff = np.abs(answer[-1] - y[-1])\n",
                "  error.append(np.sum(diff[1:-1]) + (diff[0] + diff[-1]) / 2)\n",
                "  error[-1] *= h"
            ]
        },
        {
            "cell_type": "code",
            "execution_count": null,
            "metadata": {
                "id": "qbUmO2i7QMAv"
            },
            "outputs": [],
            "source": [
                "plt.plot(L / Nxs, error, marker='o')\n",
                "plt.xscale('log')\n",
                "plt.yscale('log')\n",
                "plt.show()"
            ]
        },
        {
            "cell_type": "markdown",
            "metadata": {
                "id": "cTCO5uAMISSe"
            },
            "source": [
                "## tau"
            ]
        },
        {
            "cell_type": "code",
            "execution_count": null,
            "metadata": {
                "id": "PxVkIbzuISSe"
            },
            "outputs": [],
            "source": [
                "Nts = np.array(list(range(350, 1300, 25)))\n",
                "Nx = 100\n",
                "xj = np.linspace(0, 1, Nx+1, endpoint=True)\n",
                "h = L / Nx\n",
                "error = []\n",
                "\n",
                "for Nt in Nts:\n",
                "  tn = np.linspace(0, 1, Nt+1, endpoint=True)\n",
                "  tau = T / Nt\n",
                "  gamma = (c * tau / h)**2\n",
                "\n",
                "  y = np.empty((Nt+1, Nx+1))\n",
                "  answer = np.empty((Nt+1, Nx+1))\n",
                "\n",
                "  y[0] = u0(xj)\n",
                "  y[1] = y[0] + tau * u0p(xj)\n",
                "  answer[0] = u(xj, tn[0])\n",
                "  answer[Nt] = u(xj, tn[Nt])\n",
                "\n",
                "  for n in range(1, Nt):\n",
                "      make_step(y, n, gamma)\n",
                "      answer[n] = u(xj, tn[n])\n",
                "  \n",
                "  diff = np.abs(answer[-1] - y[-1])\n",
                "  error.append(np.sum(diff[1:-1]) + (diff[0] + diff[-1]) / 2)\n",
                "  error[-1] *= h"
            ]
        },
        {
            "cell_type": "code",
            "execution_count": null,
            "metadata": {
                "id": "qjDzNa9POgET"
            },
            "outputs": [],
            "source": [
                "plt.plot(T / Nts, error, marker='o')\n",
                "plt.xscale('log')\n",
                "plt.yscale('log')\n",
                "plt.show()"
            ]
        },
        {
            "cell_type": "markdown",
            "metadata": {
                "id": "L2WKJRjE8GS5"
            },
            "source": [
                "# Задание 2"
            ]
        },
        {
            "cell_type": "code",
            "execution_count": null,
            "metadata": {
                "id": "P-sDJEH38Jqm"
            },
            "outputs": [],
            "source": [
                "def u(x, t):\n",
                "  return np.exp(-25*(x-1.2-t)**2) * np.sin((x-1.2-t)/0.03)\n",
                "\n",
                "def u0(x):\n",
                "  return u(x, 0)\n",
                "  \n",
                "def u0p(x):\n",
                "  return (u(x, 0.0001) - u(x, 0))/0.0001\n",
                "    \n",
                "def make_step(y, n, gamma):\n",
                "    assert n >= 1\n",
                "    y[n+1, 0] = 2*y[n, 0] - y[n-1, 0] + gamma * (y[n, 1] - 2*y[n, 0] + y[n, -1])\n",
                "    y[n+1, -1] = 2*y[n, -1] - y[n-1, -1] + gamma * (y[n, 0] - 2*y[n, -1] + y[n, -2])\n",
                "    for j in range(1, Nx):\n",
                "        y[n+1, j] = 2*y[n, j] - y[n-1, j] + gamma * (y[n, j+1] - 2*y[n, j] + y[n, j-1])\n",
                "\n",
                "L, T = 3, 3\n",
                "c = 1\n",
                "\n",
                "Nx = 300\n",
                "Nt = 900\n",
                "\n",
                "tau = T / Nt\n",
                "h = L / Nx\n",
                "gamma = (c * tau / h)**2\n",
                "\n",
                "y = np.empty((Nt+1, Nx+1), dtype=float)\n",
                "xj = np.linspace(0, L, Nx+1, endpoint=True)\n",
                "tn = np.linspace(0, T, Nt+1, endpoint=True)\n",
                "\n",
                "y[0] = u0(xj)\n",
                "y[1] = y[0] + tau * u0p(xj)\n",
                "for n in range(1, Nt):\n",
                "    make_step(y, n, gamma)"
            ]
        },
        {
            "cell_type": "code",
            "execution_count": null,
            "metadata": {
                "id": "CXr4rBVS9Z8G"
            },
            "outputs": [],
            "source": [
                "%%capture\n",
                "def init():\n",
                "    line.set_data([], [])\n",
                "    return line,\n",
                "\n",
                "def animate(n):\n",
                "    line.set_data(xj, y[n, :])\n",
                "    return line,\n",
                "\n",
                "fig, ax = plt.subplots()\n",
                "ax.set_xlim([0, L])\n",
                "ax.set_ylim([-1.1, 1.1])\n",
                "line, = ax.plot([], [], '.-', lw=2)\n",
                "\n",
                "anim = animation.FuncAnimation(fig, animate, init_func=init,\n",
                "                               frames=Nt, interval=20, \n",
                "                               blit=True);"
            ]
        },
        {
            "cell_type": "code",
            "execution_count": null,
            "metadata": {
                "colab": {
                    "background_save": true,
                    "output_embedded_package_id": "1mLia-KDWfi1W255FICmfz_WS5ItOFdVF"
                },
                "id": "K2gCdK-y9hsU",
                "outputId": "190b6c95-5d66-4b63-a52b-fdc5b66579c1"
            },
            "outputs": [],
            "source": [
                "HTML(anim.to_jshtml())"
            ]
        },
        {
            "cell_type": "code",
            "execution_count": null,
            "metadata": {
                "colab": {
                    "background_save": true
                },
                "id": "tKpK-Y6d-a7m"
            },
            "outputs": [],
            "source": [
                ""
            ]
        }
    ],
    "metadata": {
        "kernelspec": {
            "display_name": "Python 3",
            "language": "python",
            "name": "python3"
        },
        "language_info": {
            "codemirror_mode": {
                "name": "ipython",
                "version": 3
            },
            "file_extension": ".py",
            "mimetype": "text/x-python",
            "name": "python",
            "nbconvert_exporter": "python",
            "pygments_lexer": "ipython3",
            "version": "3.8.10"
        }
    },
    "nbformat": 4,
    "nbformat_minor": 5
}